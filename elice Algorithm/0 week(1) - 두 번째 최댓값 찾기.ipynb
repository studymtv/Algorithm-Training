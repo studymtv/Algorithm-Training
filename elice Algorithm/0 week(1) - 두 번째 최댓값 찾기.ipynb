{
 "cells": [
  {
   "cell_type": "markdown",
   "metadata": {},
   "source": [
    "## 두 번째 최댓값\n",
    "\n",
    "nnxnn의 행렬이 주어질 때, 1) 모든 원소의 합, 2) 원소의 최댓값, 3) 원소의 두 번째 최댓값을 구하는 프로그램을 작성하세요. 여기서 두 번째 최댓값은, 최댓값보다 작은 숫자를 의미합니다. 예를 들어, 3 x 3 행렬이 다음과 같이 주어졌을 경우, 모든 원소의 합은 25, 원소의 최댓값은 4, 그리고 원소의 두 번째 최댓값은 3 입니다.\n",
    "\n",
    "1 2 3\n",
    "\n",
    "2 3 4\n",
    "\n",
    "4 4 2"
   ]
  },
  {
   "cell_type": "code",
   "execution_count": 2,
   "metadata": {},
   "outputs": [
    {
     "name": "stdout",
     "output_type": "stream",
     "text": [
      "3\n",
      "1 3 5\n",
      "9 100 1\n",
      "777 2 1\n",
      "(899, 777, 100)\n"
     ]
    }
   ],
   "source": [
    "def getMax2(n, myMatrix):\n",
    "    '''\n",
    "    크기 n x n 의 행렬 myMatrix내의 원소의 합, 최댓값, 두 번째 최댓값을 반환하는 함수.\n",
    "\n",
    "    만약 myMatrix = [[1, 2, 3], [2, 3, 4], [3, 3, 4]]라면 (25, 4, 3) 을 반환한다.\n",
    "    '''\n",
    "    \n",
    "    mySum = 0\n",
    "    myMax = 0\n",
    "    myMax2 = 0\n",
    "    \n",
    "    flatMatrix = sum(myMatrix, [])\n",
    "    mySum = sum(flatMatrix)\n",
    "    unique_list = list(set(flatMatrix))\n",
    "    unique_list.sort()\n",
    "    myMax = unique_list[-1]\n",
    "    myMax2 = unique_list[-2]\n",
    "\n",
    "    \n",
    "    return (mySum, myMax, myMax2)\n",
    "\n",
    "def main():\n",
    "    '''\n",
    "    이 부분은 수정하지 마세요.\n",
    "    '''\n",
    "\n",
    "    n = int(input())\n",
    "    myMatrix = []\n",
    "\n",
    "    for i in range(n):\n",
    "        myMatrix.append([int(v) for v in input().split()])\n",
    "\n",
    "    print(getMax2(n, myMatrix))\n",
    "\n",
    "if __name__ == \"__main__\":\n",
    "    main()\n"
   ]
  },
  {
   "cell_type": "code",
   "execution_count": null,
   "metadata": {
    "collapsed": true
   },
   "outputs": [],
   "source": []
  }
 ],
 "metadata": {
  "kernelspec": {
   "display_name": "Python 3",
   "language": "python",
   "name": "python3"
  },
  "language_info": {
   "codemirror_mode": {
    "name": "ipython",
    "version": 3
   },
   "file_extension": ".py",
   "mimetype": "text/x-python",
   "name": "python",
   "nbconvert_exporter": "python",
   "pygments_lexer": "ipython3",
   "version": "3.6.1"
  }
 },
 "nbformat": 4,
 "nbformat_minor": 2
}
