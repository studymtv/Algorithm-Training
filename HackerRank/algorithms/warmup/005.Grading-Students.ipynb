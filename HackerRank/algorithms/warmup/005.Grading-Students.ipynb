{
 "cells": [
  {
   "cell_type": "markdown",
   "metadata": {},
   "source": [
    "# 005.Grading Students\n",
    "![image](https://www.dropbox.com/s/jt25d7bfrjl7ggk/%EC%8A%A4%ED%81%AC%EB%A6%B0%EC%83%B7%202018-06-16%2022.05.48.png?raw=1)\n",
    "![image2](https://www.dropbox.com/s/pijggdo8io79p6h/%EC%8A%A4%ED%81%AC%EB%A6%B0%EC%83%B7%202018-06-16%2022.06.11.png?raw=1)"
   ]
  },
  {
   "cell_type": "code",
   "execution_count": 1,
   "metadata": {},
   "outputs": [],
   "source": [
    "def gradingStudents(grades):\n",
    "    result_list = []\n",
    "    for grade in grades:\n",
    "        if grade <= 37:\n",
    "            result_list.append(grade)\n",
    "        else:\n",
    "            difference = grade%5\n",
    "            if difference >= 3:\n",
    "                grade = grade+5-difference\n",
    "                result_list.append(grade)\n",
    "            else:\n",
    "                result_list.append(grade)\n",
    "    return result_list"
   ]
  },
  {
   "cell_type": "code",
   "execution_count": 13,
   "metadata": {},
   "outputs": [],
   "source": [
    "def gradingStudents_refactoring(grades):\n",
    "    result_list = []\n",
    "    for grade in grades:\n",
    "        if grade >= 38:\n",
    "            difference = grade%5\n",
    "            if difference >= 3:\n",
    "                grade += 5 - difference\n",
    "        result_list.append(grade)\n",
    "    return result_list"
   ]
  },
  {
   "cell_type": "code",
   "execution_count": 7,
   "metadata": {},
   "outputs": [],
   "source": [
    "assert gradingStudents([73, 67, 38, 33]) == [75, 67, 40, 33]"
   ]
  },
  {
   "cell_type": "code",
   "execution_count": 14,
   "metadata": {},
   "outputs": [],
   "source": [
    "assert gradingStudents_refactoring([73, 67, 38, 33]) == [75, 67, 40, 33]"
   ]
  },
  {
   "cell_type": "code",
   "execution_count": null,
   "metadata": {},
   "outputs": [],
   "source": []
  }
 ],
 "metadata": {
  "kernelspec": {
   "display_name": "Python 3",
   "language": "python",
   "name": "python3"
  },
  "language_info": {
   "codemirror_mode": {
    "name": "ipython",
    "version": 3
   },
   "file_extension": ".py",
   "mimetype": "text/x-python",
   "name": "python",
   "nbconvert_exporter": "python",
   "pygments_lexer": "ipython3",
   "version": "3.6.5"
  },
  "varInspector": {
   "cols": {
    "lenName": 16,
    "lenType": 16,
    "lenVar": 40
   },
   "kernels_config": {
    "python": {
     "delete_cmd_postfix": "",
     "delete_cmd_prefix": "del ",
     "library": "var_list.py",
     "varRefreshCmd": "print(var_dic_list())"
    },
    "r": {
     "delete_cmd_postfix": ") ",
     "delete_cmd_prefix": "rm(",
     "library": "var_list.r",
     "varRefreshCmd": "cat(var_dic_list()) "
    }
   },
   "types_to_exclude": [
    "module",
    "function",
    "builtin_function_or_method",
    "instance",
    "_Feature"
   ],
   "window_display": false
  }
 },
 "nbformat": 4,
 "nbformat_minor": 2
}
