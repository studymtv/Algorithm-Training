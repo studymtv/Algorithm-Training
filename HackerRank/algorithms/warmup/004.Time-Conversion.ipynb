{
 "cells": [
  {
   "cell_type": "markdown",
   "metadata": {},
   "source": [
    "# Time-Conversion\n",
    "![이미지](https://www.dropbox.com/s/xkikz4zvn99izas/%EC%8A%A4%ED%81%AC%EB%A6%B0%EC%83%B7%202018-06-13%2020.04.09.png?raw=1)"
   ]
  },
  {
   "cell_type": "code",
   "execution_count": 3,
   "metadata": {},
   "outputs": [],
   "source": [
    "import os\n",
    "import sys\n",
    "\n",
    "def timeConversion(s):\n",
    "    \"\"\"\n",
    "    PM / AM으로 달라짐\n",
    "    12:00:03PM => 12:00:03\n",
    "    12:00:01AM => 00:00:01\n",
    "    맨 앞은 \"00\"!!! \"0\"은 안됨\n",
    "    \"\"\"\n",
    "    is_pm = s.lower().endswith(\"pm\")\n",
    "    time_part = s[:-2].split(\":\")\n",
    "\n",
    "    if is_pm and int(time_part[0]) < 12:\n",
    "        time_part[0] = str(int(time_part[0]) + 12)\n",
    "    elif not is_pm and time_part[0] == \"12\":\n",
    "        time_part[0] = \"00\"\n",
    "    else:\n",
    "        pass\n",
    "        \n",
    "    result = \":\".join(time_part)\n",
    "    \n",
    "    return result\n",
    "    "
   ]
  },
  {
   "cell_type": "code",
   "execution_count": 5,
   "metadata": {},
   "outputs": [],
   "source": [
    "assert timeConversion(\"07:05:45PM\") == \"19:05:45\"\n",
    "assert timeConversion(\"07:05:45AM\") == \"07:05:45\"\n",
    "assert timeConversion(\"12:05:45PM\") == \"12:05:45\"\n",
    "assert timeConversion(\"12:05:45AM\") == \"00:05:45\"\n",
    "assert timeConversion(\"07:05:45am\") == \"07:05:45\""
   ]
  },
  {
   "cell_type": "code",
   "execution_count": null,
   "metadata": {},
   "outputs": [],
   "source": []
  }
 ],
 "metadata": {
  "kernelspec": {
   "display_name": "Python 3",
   "language": "python",
   "name": "python3"
  },
  "language_info": {
   "codemirror_mode": {
    "name": "ipython",
    "version": 3
   },
   "file_extension": ".py",
   "mimetype": "text/x-python",
   "name": "python",
   "nbconvert_exporter": "python",
   "pygments_lexer": "ipython3",
   "version": "3.6.5"
  },
  "varInspector": {
   "cols": {
    "lenName": 16,
    "lenType": 16,
    "lenVar": 40
   },
   "kernels_config": {
    "python": {
     "delete_cmd_postfix": "",
     "delete_cmd_prefix": "del ",
     "library": "var_list.py",
     "varRefreshCmd": "print(var_dic_list())"
    },
    "r": {
     "delete_cmd_postfix": ") ",
     "delete_cmd_prefix": "rm(",
     "library": "var_list.r",
     "varRefreshCmd": "cat(var_dic_list()) "
    }
   },
   "types_to_exclude": [
    "module",
    "function",
    "builtin_function_or_method",
    "instance",
    "_Feature"
   ],
   "window_display": false
  }
 },
 "nbformat": 4,
 "nbformat_minor": 2
}
