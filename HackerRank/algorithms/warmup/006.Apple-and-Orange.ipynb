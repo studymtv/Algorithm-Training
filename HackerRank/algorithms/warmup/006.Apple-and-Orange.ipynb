{
 "cells": [
  {
   "cell_type": "markdown",
   "metadata": {},
   "source": [
    "# 006. Apple and Orange\n",
    "![이미지](https://www.dropbox.com/s/8f76k059jkugjio/%EC%8A%A4%ED%81%AC%EB%A6%B0%EC%83%B7%202018-06-20%2020.21.06.png?raw=1)"
   ]
  },
  {
   "cell_type": "markdown",
   "metadata": {},
   "source": [
    "![이미지2](https://www.dropbox.com/s/ltk3ukrv45racvj/%EC%8A%A4%ED%81%AC%EB%A6%B0%EC%83%B7%202018-06-20%2020.21.43.png?raw=1)"
   ]
  },
  {
   "cell_type": "code",
   "execution_count": 2,
   "metadata": {},
   "outputs": [],
   "source": [
    "\n",
    "def countApplesAndOranges(s, t, a, b, apples, oranges):\n",
    "    '''\n",
    "    (s, t) => 집\n",
    "    a = 사과\n",
    "    b = 오렌지\n",
    "    apples = 사과가 떨어진 상대 좌표\n",
    "    oranges = 오렌지가 떨어진 상대 좌표\n",
    "    '''\n",
    "    \n",
    "    apples_count = sum([1 for x in apples if (x + a) >= s and (x + a) <= t])\n",
    "    oranges_count = sum([1 for x in oranges if (x + b) >= s and (x + b) <= t])\n",
    "    return apples_count, oranges_count\n",
    "   "
   ]
  },
  {
   "cell_type": "code",
   "execution_count": 4,
   "metadata": {},
   "outputs": [],
   "source": [
    "assert(countApplesAndOranges(7, 11, 5, 15, [-2, 2, 1], [5, -6]) == (1, 1))"
   ]
  }
 ],
 "metadata": {
  "kernelspec": {
   "display_name": "Python 3",
   "language": "python",
   "name": "python3"
  },
  "language_info": {
   "codemirror_mode": {
    "name": "ipython",
    "version": 3
   },
   "file_extension": ".py",
   "mimetype": "text/x-python",
   "name": "python",
   "nbconvert_exporter": "python",
   "pygments_lexer": "ipython3",
   "version": "3.6.5"
  },
  "varInspector": {
   "cols": {
    "lenName": 16,
    "lenType": 16,
    "lenVar": 40
   },
   "kernels_config": {
    "python": {
     "delete_cmd_postfix": "",
     "delete_cmd_prefix": "del ",
     "library": "var_list.py",
     "varRefreshCmd": "print(var_dic_list())"
    },
    "r": {
     "delete_cmd_postfix": ") ",
     "delete_cmd_prefix": "rm(",
     "library": "var_list.r",
     "varRefreshCmd": "cat(var_dic_list()) "
    }
   },
   "types_to_exclude": [
    "module",
    "function",
    "builtin_function_or_method",
    "instance",
    "_Feature"
   ],
   "window_display": false
  }
 },
 "nbformat": 4,
 "nbformat_minor": 2
}
