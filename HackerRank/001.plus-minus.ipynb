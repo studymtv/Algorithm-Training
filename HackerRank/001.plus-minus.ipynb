{
 "cells": [
  {
   "cell_type": "markdown",
   "metadata": {},
   "source": [
    "# Plus Minus\n",
    "- Python3"
   ]
  },
  {
   "cell_type": "markdown",
   "metadata": {},
   "source": [
    "![plus-minus](https://www.dropbox.com/s/p6vdjnt75qxflbq/%EC%8A%A4%ED%81%AC%EB%A6%B0%EC%83%B7%202018-06-10%2015.18.26.png?raw=1)"
   ]
  },
  {
   "cell_type": "code",
   "execution_count": 21,
   "metadata": {},
   "outputs": [],
   "source": [
    "#!/bin/python3\n",
    "\n",
    "import math\n",
    "import os\n",
    "import random\n",
    "import re\n",
    "import sys\n",
    "\n",
    "# Complete the plusMinus function below.\n",
    "def plusMinus(arr):\n",
    "    '''\n",
    "    list에서 개수를 카운트 => \n",
    "    positive/Total\n",
    "    negative/Total\n",
    "    Zeros/Total\n",
    "    '''\n",
    "    total_number = len(arr)\n",
    "    positive_num = 0\n",
    "    negative_num = 0\n",
    "    try:\n",
    "        for i in arr:\n",
    "            if i > 0:\n",
    "                positive_num+=1\n",
    "            elif i < 0:\n",
    "                negative_num+=1\n",
    "            else:\n",
    "                pass\n",
    "\n",
    "        print(\"{:.6f}\".format(positive_num/total_number))\n",
    "        print(\"{:.6f}\".format(negative_num/total_number))\n",
    "        print(\"{:.6f}\".format((total_number-positive_num-negative_num)/total_number))\n",
    "\n",
    "    except ZeroDivisionError:\n",
    "        print(\"빈 리스트를 입력하셨습니다\")"
   ]
  },
  {
   "cell_type": "code",
   "execution_count": 27,
   "metadata": {},
   "outputs": [
    {
     "name": "stdout",
     "output_type": "stream",
     "text": [
      "6\n",
      "-4 3 -9 0 4 1\n",
      "0.500000\n",
      "0.333333\n",
      "0.166667\n"
     ]
    }
   ],
   "source": [
    "if __name__ == '__main__':\n",
    "    n = int(input())\n",
    "\n",
    "    arr = list(map(int, input().rstrip().split()))\n",
    "\n",
    "    plusMinus(arr)"
   ]
  },
  {
   "cell_type": "code",
   "execution_count": null,
   "metadata": {},
   "outputs": [],
   "source": []
  }
 ],
 "metadata": {
  "kernelspec": {
   "display_name": "Python 3",
   "language": "python",
   "name": "python3"
  },
  "language_info": {
   "codemirror_mode": {
    "name": "ipython",
    "version": 3
   },
   "file_extension": ".py",
   "mimetype": "text/x-python",
   "name": "python",
   "nbconvert_exporter": "python",
   "pygments_lexer": "ipython3",
   "version": "3.6.5"
  },
  "varInspector": {
   "cols": {
    "lenName": 16,
    "lenType": 16,
    "lenVar": 40
   },
   "kernels_config": {
    "python": {
     "delete_cmd_postfix": "",
     "delete_cmd_prefix": "del ",
     "library": "var_list.py",
     "varRefreshCmd": "print(var_dic_list())"
    },
    "r": {
     "delete_cmd_postfix": ") ",
     "delete_cmd_prefix": "rm(",
     "library": "var_list.r",
     "varRefreshCmd": "cat(var_dic_list()) "
    }
   },
   "types_to_exclude": [
    "module",
    "function",
    "builtin_function_or_method",
    "instance",
    "_Feature"
   ],
   "window_display": false
  }
 },
 "nbformat": 4,
 "nbformat_minor": 2
}
