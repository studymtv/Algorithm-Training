{
 "cells": [
  {
   "cell_type": "markdown",
   "metadata": {},
   "source": [
    "#  001. 1~1000에서 각 숫자의 개수 구하기\n",
    "\n",
    "#### 예로 10 ~ 15 까지의 각 숫자의 개수를 구해보자\n",
    "\n",
    "#### 10 = 1, 0\n",
    "#### 11 = 1, 1\n",
    "#### 12 = 1, 2\n",
    "#### 13 = 1, 3\n",
    "#### 14 = 1, 4\n",
    "#### 15 = 1, 5\n",
    "\n",
    "#### 그러므로 이 경우의 답은 0:1개, 1:7개, 2:1개, 3:1개, 4:1개, 5:1개"
   ]
  },
  {
   "cell_type": "code",
   "execution_count": 2,
   "metadata": {
    "collapsed": false
   },
   "outputs": [],
   "source": [
    "def counting_number(start_number, end_number):\n",
    "    pass\n",
    "\n",
    "# counting_number(1) = > 1:1개\n",
    "# counting_number(2) => 1:1개, 2:1개\n",
    "# counting_number(3) => 1:1개, 2:1개, 3:1개  \n",
    "# ...            \n",
    "# counting_number(10) => 1:2개, 2:1개, 3:1개... 9:1개, 0:1개          "
   ]
  },
  {
   "cell_type": "code",
   "execution_count": 164,
   "metadata": {
    "collapsed": true
   },
   "outputs": [],
   "source": [
    "# 일단 숫자가 오면 나누자"
   ]
  },
  {
   "cell_type": "code",
   "execution_count": 34,
   "metadata": {
    "collapsed": false
   },
   "outputs": [],
   "source": [
    "number_list = [k for k in range(1, 1001)]"
   ]
  },
  {
   "cell_type": "code",
   "execution_count": 86,
   "metadata": {
    "collapsed": true
   },
   "outputs": [],
   "source": [
    "number_dictionary = { \n",
    "        \"1\":0,\n",
    "        \"2\":0,\n",
    "        \"3\":0,\n",
    "        \"4\":0,\n",
    "        \"5\":0,\n",
    "        \"6\":0,\n",
    "        \"7\":0,\n",
    "        \"8\":0,\n",
    "        \"9\":0,\n",
    "        \"0\":0,\n",
    "}"
   ]
  },
  {
   "cell_type": "code",
   "execution_count": 76,
   "metadata": {
    "collapsed": false,
    "scrolled": true
   },
   "outputs": [
    {
     "name": "stdout",
     "output_type": "stream",
     "text": [
      "{'0': 192, '6': 300, '2': 300, '1': 301, '7': 300, '8': 300, '9': 300, '4': 300, '3': 300, '5': 300}\n"
     ]
    }
   ],
   "source": [
    "for i in number_list:\n",
    "    if len(str(i)) == 1:\n",
    "        if str(i) in number_dictionary.keys():\n",
    "            number_dictionary[str(i)] +=1\n",
    "            \n",
    "    elif len(str(i)) == 2:\n",
    "        if str(i)[0] in number_dictionary.keys():\n",
    "            number_dictionary[str(i)[0]] +=1\n",
    "            \n",
    "        if str(i)[1] in number_dictionary.keys():\n",
    "            number_dictionary[str(i)[1]] +=1 \n",
    "            \n",
    "    elif len(str(i)) == 3:\n",
    "        if str(i)[0] in number_dictionary.keys():\n",
    "            number_dictionary[str(i)[0]] +=1\n",
    "            \n",
    "        if str(i)[1] in number_dictionary.keys():\n",
    "            number_dictionary[str(i)[1]] +=1 \n",
    "            \n",
    "        if str(i)[2] in number_dictionary.keys():\n",
    "            number_dictionary[str(i)[2]] +=1 \n",
    "            \n",
    "    elif len(str(i)) == 4:\n",
    "        if str(i)[0] in number_dictionary.keys():\n",
    "            number_dictionary[str(i)[0]] +=1\n",
    "            \n",
    "        if str(i)[1] in number_dictionary.keys():\n",
    "            number_dictionary[str(i)[1]] +=1 \n",
    "\n",
    "        if str(i)[2] in number_dictionary.keys():\n",
    "            number_dictionary[str(i)[2]] +=1 \n",
    "            \n",
    "        if str(i)[3] in number_dictionary.keys():\n",
    "            number_dictionary[str(i)[3]] +=1 \n",
    "            \n",
    "print(number_dictionary)"
   ]
  },
  {
   "cell_type": "code",
   "execution_count": 88,
   "metadata": {
    "collapsed": false
   },
   "outputs": [
    {
     "name": "stdout",
     "output_type": "stream",
     "text": [
      "{'0': 192, '6': 300, '2': 300, '1': 301, '7': 300, '8': 300, '9': 300, '4': 300, '3': 300, '5': 300}\n"
     ]
    }
   ],
   "source": [
    "# 리팩토링\n",
    "number_dictionary = { \n",
    "        \"1\":0,\n",
    "        \"2\":0,\n",
    "        \"3\":0,\n",
    "        \"4\":0,\n",
    "        \"5\":0,\n",
    "        \"6\":0,\n",
    "        \"7\":0,\n",
    "        \"8\":0,\n",
    "        \"9\":0,\n",
    "        \"0\":0,\n",
    "}\n",
    "\n",
    "for i in number_list:\n",
    "    for j in range(0, len(str(i))):\n",
    "            if str(i)[j] in number_dictionary.keys():\n",
    "                number_dictionary[str(i)[j]] +=1\n",
    "\n",
    "print(number_dictionary)"
   ]
  },
  {
   "cell_type": "code",
   "execution_count": 89,
   "metadata": {
    "collapsed": true
   },
   "outputs": [],
   "source": [
    "# 내가 짠 알고리즘의 문제점 : dictionary 스타일이라 내가 원하는 순서대로 나오지 않음..!"
   ]
  },
  {
   "cell_type": "markdown",
   "metadata": {},
   "source": [
    "## defaultdict\n",
    "\n",
    "key생성과 동시에 default값을 가지고 있게 되어 Key가 없는 상태여도 Key Error가 나지 않는다는 특징을 가진 자료형"
   ]
  },
  {
   "cell_type": "code",
   "execution_count": 101,
   "metadata": {
    "collapsed": false
   },
   "outputs": [
    {
     "name": "stdout",
     "output_type": "stream",
     "text": [
      "defaultdict(<class 'int'>, {'0': 192, '6': 300, '2': 300, '1': 301, '7': 300, '8': 300, '9': 300, '4': 300, '3': 300, '5': 300})\n"
     ]
    }
   ],
   "source": [
    "# (2) 다른 풀이\n",
    "from collections import defaultdict\n",
    "\n",
    "d = defaultdict(int) # default가 0 인 dictionary 생성 (키가 없으면 기본값을 돌려주는 함수)\n",
    "for n in range(1, 1001):\n",
    "    for x in str(n):\n",
    "        d[x] += 1\n",
    "\n",
    "print(d)"
   ]
  },
  {
   "cell_type": "code",
   "execution_count": 100,
   "metadata": {
    "collapsed": false
   },
   "outputs": [
    {
     "name": "stdout",
     "output_type": "stream",
     "text": [
      "0 192\n",
      "1 301\n",
      "2 300\n",
      "3 300\n",
      "4 300\n",
      "5 300\n",
      "6 300\n",
      "7 300\n",
      "8 300\n",
      "9 300\n"
     ]
    }
   ],
   "source": [
    "# (3) 또 다른 풀이\n",
    "s = ''.join(map(str, range(1,1001)))\n",
    "for i in range(10):\n",
    "    print(i,str(s).count(str(i)))"
   ]
  },
  {
   "cell_type": "markdown",
   "metadata": {},
   "source": [
    "## str(s).count(str(i)) : s에서 i 개수 카운팅\n",
    "## \"\".join 사용"
   ]
  },
  {
   "cell_type": "code",
   "execution_count": 105,
   "metadata": {
    "collapsed": false
   },
   "outputs": [
    {
     "name": "stdout",
     "output_type": "stream",
     "text": [
      "0: 192\n",
      "1: 301\n",
      "2: 300\n",
      "3: 300\n",
      "4: 300\n",
      "5: 300\n",
      "6: 300\n",
      "7: 300\n",
      "8: 300\n",
      "9: 300\n"
     ]
    }
   ],
   "source": [
    "# (4) 또 다른 풀이 : 리스트 사용\n",
    "\n",
    "number_list2 = []\n",
    "\n",
    "for num in range(1, 1001):\n",
    "    for i in str(num):\n",
    "        number_list2.append(i)\n",
    "        \n",
    "for x in range(10):\n",
    "    print('{x}: {ans}'.format(x=x, ans=number_list2.count(str(x))))"
   ]
  },
  {
   "cell_type": "code",
   "execution_count": null,
   "metadata": {
    "collapsed": true
   },
   "outputs": [],
   "source": []
  }
 ],
 "metadata": {
  "kernelspec": {
   "display_name": "Python 3",
   "language": "python",
   "name": "python3"
  },
  "language_info": {
   "codemirror_mode": {
    "name": "ipython",
    "version": 3
   },
   "file_extension": ".py",
   "mimetype": "text/x-python",
   "name": "python",
   "nbconvert_exporter": "python",
   "pygments_lexer": "ipython3",
   "version": "3.5.1"
  }
 },
 "nbformat": 4,
 "nbformat_minor": 0
}
