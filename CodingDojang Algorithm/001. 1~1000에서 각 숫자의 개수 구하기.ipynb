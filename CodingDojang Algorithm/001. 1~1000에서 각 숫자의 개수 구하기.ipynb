{
 "cells": [
  {
   "cell_type": "markdown",
   "metadata": {},
   "source": [
    "#  001. 1~1000에서 각 숫자의 개수 구하기\n",
    "\n",
    "#### 예로 10 ~ 15 까지의 각 숫자의 개수를 구해보자\n",
    "\n",
    "#### 10 = 1, 0\n",
    "#### 11 = 1, 1\n",
    "#### 12 = 1, 2\n",
    "#### 13 = 1, 3\n",
    "#### 14 = 1, 4\n",
    "#### 15 = 1, 5\n",
    "\n",
    "#### 그러므로 이 경우의 답은 0:1개, 1:7개, 2:1개, 3:1개, 4:1개, 5:1개"
   ]
  },
  {
   "cell_type": "code",
   "execution_count": 2,
   "metadata": {
    "collapsed": false
   },
   "outputs": [],
   "source": [
    "def counting_number(start_number, end_number):\n",
    "    pass\n",
    "\n",
    "# counting_number(1) = > 1:1개\n",
    "# counting_number(2) => 1:1개, 2:1개\n",
    "# counting_number(3) => 1:1개, 2:1개, 3:1개  \n",
    "# ...            \n",
    "# counting_number(10) => 1:2개, 2:1개, 3:1개... 9:1개, 0:1개          "
   ]
  },
  {
   "cell_type": "code",
   "execution_count": 164,
   "metadata": {
    "collapsed": true
   },
   "outputs": [],
   "source": [
    "# 일단 숫자가 오면 나누자"
   ]
  },
  {
   "cell_type": "code",
   "execution_count": 34,
   "metadata": {
    "collapsed": false
   },
   "outputs": [],
   "source": [
    "number_list = [k for k in range(1, 1001)]"
   ]
  },
  {
   "cell_type": "code",
   "execution_count": 86,
   "metadata": {
    "collapsed": true
   },
   "outputs": [],
   "source": [
    "number_dictionary = { \n",
    "        \"1\":0,\n",
    "        \"2\":0,\n",
    "        \"3\":0,\n",
    "        \"4\":0,\n",
    "        \"5\":0,\n",
    "        \"6\":0,\n",
    "        \"7\":0,\n",
    "        \"8\":0,\n",
    "        \"9\":0,\n",
    "        \"0\":0,\n",
    "}"
   ]
  },
  {
   "cell_type": "code",
   "execution_count": 76,
   "metadata": {
    "collapsed": false,
    "scrolled": true
   },
   "outputs": [
    {
     "name": "stdout",
     "output_type": "stream",
     "text": [
      "{'0': 192, '6': 300, '2': 300, '1': 301, '7': 300, '8': 300, '9': 300, '4': 300, '3': 300, '5': 300}\n"
     ]
    }
   ],
   "source": [
    "for i in number_list:\n",
    "    if len(str(i)) == 1:\n",
    "        if str(i) in number_dictionary.keys():\n",
    "            number_dictionary[str(i)] +=1\n",
    "            \n",
    "    elif len(str(i)) == 2:\n",
    "        if str(i)[0] in number_dictionary.keys():\n",
    "            number_dictionary[str(i)[0]] +=1\n",
    "            \n",
    "        if str(i)[1] in number_dictionary.keys():\n",
    "            number_dictionary[str(i)[1]] +=1 \n",
    "            \n",
    "    elif len(str(i)) == 3:\n",
    "        if str(i)[0] in number_dictionary.keys():\n",
    "            number_dictionary[str(i)[0]] +=1\n",
    "            \n",
    "        if str(i)[1] in number_dictionary.keys():\n",
    "            number_dictionary[str(i)[1]] +=1 \n",
    "            \n",
    "        if str(i)[2] in number_dictionary.keys():\n",
    "            number_dictionary[str(i)[2]] +=1 \n",
    "            \n",
    "    elif len(str(i)) == 4:\n",
    "        if str(i)[0] in number_dictionary.keys():\n",
    "            number_dictionary[str(i)[0]] +=1\n",
    "            \n",
    "        if str(i)[1] in number_dictionary.keys():\n",
    "            number_dictionary[str(i)[1]] +=1 \n",
    "\n",
    "        if str(i)[2] in number_dictionary.keys():\n",
    "            number_dictionary[str(i)[2]] +=1 \n",
    "            \n",
    "        if str(i)[3] in number_dictionary.keys():\n",
    "            number_dictionary[str(i)[3]] +=1 \n",
    "            \n",
    "print(number_dictionary)"
   ]
  },
  {
   "cell_type": "code",
   "execution_count": 88,
   "metadata": {
    "collapsed": false
   },
   "outputs": [
    {
     "name": "stdout",
     "output_type": "stream",
     "text": [
      "{'0': 192, '6': 300, '2': 300, '1': 301, '7': 300, '8': 300, '9': 300, '4': 300, '3': 300, '5': 300}\n"
     ]
    }
   ],
   "source": [
    "# 리팩토링\n",
    "number_dictionary = { \n",
    "        \"1\":0,\n",
    "        \"2\":0,\n",
    "        \"3\":0,\n",
    "        \"4\":0,\n",
    "        \"5\":0,\n",
    "        \"6\":0,\n",
    "        \"7\":0,\n",
    "        \"8\":0,\n",
    "        \"9\":0,\n",
    "        \"0\":0,\n",
    "}\n",
    "\n",
    "for i in number_list:\n",
    "    for j in range(0, len(str(i))):\n",
    "            if str(i)[j] in number_dictionary.keys():\n",
    "                number_dictionary[str(i)[j]] +=1\n",
    "\n",
    "print(number_dictionary)"
   ]
  },
  {
   "cell_type": "code",
   "execution_count": 89,
   "metadata": {
    "collapsed": true
   },
   "outputs": [],
   "source": [
    "# 내가 짠 알고리즘의 문제점 : dictionary 스타일이라 내가 원하는 순서대로 나오지 않음..!"
   ]
  },
  {
   "cell_type": "markdown",
   "metadata": {},
   "source": [
    "## defaultdict\n",
    "\n",
    "key생성과 동시에 default값을 가지고 있게 되어 Key가 없는 상태여도 Key Error가 나지 않는다는 특징을 가진 자료형"
   ]
  },
  {
   "cell_type": "code",
   "execution_count": 101,
   "metadata": {
    "collapsed": false
   },
   "outputs": [
    {
     "name": "stdout",
     "output_type": "stream",
     "text": [
      "defaultdict(<class 'int'>, {'0': 192, '6': 300, '2': 300, '1': 301, '7': 300, '8': 300, '9': 300, '4': 300, '3': 300, '5': 300})\n"
     ]
    }
   ],
   "source": [
    "# (2) 다른 풀이\n",
    "from collections import defaultdict\n",
    "\n",
    "d = defaultdict(int) # default가 0 인 dictionary 생성 (키가 없으면 기본값을 돌려주는 함수)\n",
    "for n in range(1, 1001):\n",
    "    for x in str(n):\n",
    "        d[x] += 1\n",
    "\n",
    "print(d)"
   ]
  },
  {
   "cell_type": "code",
   "execution_count": 100,
   "metadata": {
    "collapsed": false
   },
   "outputs": [
    {
     "name": "stdout",
     "output_type": "stream",
     "text": [
      "0 192\n",
      "1 301\n",
      "2 300\n",
      "3 300\n",
      "4 300\n",
      "5 300\n",
      "6 300\n",
      "7 300\n",
      "8 300\n",
      "9 300\n"
     ]
    }
   ],
   "source": [
    "# (3) 또 다른 풀이\n",
    "s = ''.join(map(str, range(1,1001)))\n",
    "for i in range(10):\n",
    "    print(i,str(s).count(str(i)))"
   ]
  },
  {
   "cell_type": "markdown",
   "metadata": {},
   "source": [
    "## str(s).count(str(i)) : s에서 i 개수 카운팅\n",
    "## \"\".join 사용"
   ]
  },
  {
   "cell_type": "code",
   "execution_count": 105,
   "metadata": {
    "collapsed": false
   },
   "outputs": [
    {
     "name": "stdout",
     "output_type": "stream",
     "text": [
      "0: 192\n",
      "1: 301\n",
      "2: 300\n",
      "3: 300\n",
      "4: 300\n",
      "5: 300\n",
      "6: 300\n",
      "7: 300\n",
      "8: 300\n",
      "9: 300\n"
     ]
    }
   ],
   "source": [
    "# (4) 또 다른 풀이 : 리스트 사용\n",
    "\n",
    "number_list2 = []\n",
    "\n",
    "for num in range(1, 1001):\n",
    "    for i in str(num):\n",
    "        number_list2.append(i)\n",
    "        \n",
    "for x in range(10):\n",
    "    print('{x}: {ans}'.format(x=x, ans=number_list2.count(str(x))))"
   ]
  },
  {
   "cell_type": "code",
   "execution_count": 1,
   "metadata": {
    "collapsed": false
   },
   "outputs": [
    {
     "name": "stdout",
     "output_type": "stream",
     "text": [
      "0: 192\n",
      "1: 301\n",
      "2: 300\n",
      "3: 300\n",
      "4: 300\n",
      "5: 300\n",
      "6: 300\n",
      "7: 300\n",
      "8: 300\n",
      "9: 300\n"
     ]
    }
   ],
   "source": [
    "# (5) 번째 풀이\n",
    "\n",
    "for x in range(10):print(str(x)+': '+str(''.join(str(y) for y in range(1,1001)).count(str(x))))"
   ]
  },
  {
   "cell_type": "code",
   "execution_count": 4,
   "metadata": {
    "collapsed": false
   },
   "outputs": [
    {
     "data": {
      "text/plain": [
       "'1234567891011121314151617181920212223242526272829303132333435363738394041424344454647484950515253545556575859606162636465666768697071727374757677787980818283848586878889909192939495969798991001011021031041051061071081091101111121131141151161171181191201211221231241251261271281291301311321331341351361371381391401411421431441451461471481491501511521531541551561571581591601611621631641651661671681691701711721731741751761771781791801811821831841851861871881891901911921931941951961971981992002012022032042052062072082092102112122132142152162172182192202212222232242252262272282292302312322332342352362372382392402412422432442452462472482492502512522532542552562572582592602612622632642652662672682692702712722732742752762772782792802812822832842852862872882892902912922932942952962972982993003013023033043053063073083093103113123133143153163173183193203213223233243253263273283293303313323333343353363373383393403413423433443453463473483493503513523533543553563573583593603613623633643653663673683693703713723733743753763773783793803813823833843853863873883893903913923933943953963973983994004014024034044054064074084094104114124134144154164174184194204214224234244254264274284294304314324334344354364374384394404414424434444454464474484494504514524534544554564574584594604614624634644654664674684694704714724734744754764774784794804814824834844854864874884894904914924934944954964974984995005015025035045055065075085095105115125135145155165175185195205215225235245255265275285295305315325335345355365375385395405415425435445455465475485495505515525535545555565575585595605615625635645655665675685695705715725735745755765775785795805815825835845855865875885895905915925935945955965975985996006016026036046056066076086096106116126136146156166176186196206216226236246256266276286296306316326336346356366376386396406416426436446456466476486496506516526536546556566576586596606616626636646656666676686696706716726736746756766776786796806816826836846856866876886896906916926936946956966976986997007017027037047057067077087097107117127137147157167177187197207217227237247257267277287297307317327337347357367377387397407417427437447457467477487497507517527537547557567577587597607617627637647657667677687697707717727737747757767777787797807817827837847857867877887897907917927937947957967977987998008018028038048058068078088098108118128138148158168178188198208218228238248258268278288298308318328338348358368378388398408418428438448458468478488498508518528538548558568578588598608618628638648658668678688698708718728738748758768778788798808818828838848858868878888898908918928938948958968978988999009019029039049059069079089099109119129139149159169179189199209219229239249259269279289299309319329339349359369379389399409419429439449459469479489499509519529539549559569579589599609619629639649659669679689699709719729739749759769779789799809819829839849859869879889899909919929939949959969979989991000'"
      ]
     },
     "execution_count": 4,
     "metadata": {},
     "output_type": "execute_result"
    }
   ],
   "source": [
    "''.join(str(y) for y in range(1,1001))"
   ]
  },
  {
   "cell_type": "code",
   "execution_count": null,
   "metadata": {
    "collapsed": true
   },
   "outputs": [],
   "source": []
  }
 ],
 "metadata": {
  "kernelspec": {
   "display_name": "Python 3",
   "language": "python",
   "name": "python3"
  },
  "language_info": {
   "codemirror_mode": {
    "name": "ipython",
    "version": 3
   },
   "file_extension": ".py",
   "mimetype": "text/x-python",
   "name": "python",
   "nbconvert_exporter": "python",
   "pygments_lexer": "ipython3",
   "version": "3.5.1"
  }
 },
 "nbformat": 4,
 "nbformat_minor": 0
}
