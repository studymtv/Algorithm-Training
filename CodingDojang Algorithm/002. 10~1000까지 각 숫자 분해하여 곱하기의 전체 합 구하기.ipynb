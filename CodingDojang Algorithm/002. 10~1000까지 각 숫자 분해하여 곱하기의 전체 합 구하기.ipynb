{
 "cells": [
  {
   "cell_type": "markdown",
   "metadata": {},
   "source": [
    "### 002. 10~1000까지 각 숫자 분해하여 곱하기의 전체 합 구하기\n",
    "\n",
    "예로, 10~15까지의 각 숫자 분해하여 곱하기의 전체 합은 다음과 같다.\n",
    "\n",
    "10 = 1 * 0 = 0\n",
    "\n",
    "11 = 1 * 1 = 1\n",
    "\n",
    "12 = 1 * 2 = 2\n",
    "\n",
    "13 = 1 * 3 = 3\n",
    "\n",
    "14 = 1 * 4 = 4\n",
    "\n",
    "15 = 1 * 5 = 5\n",
    "\n",
    "\n",
    "그러므로, 이 경우의 답은 0+1+2+3+4+5 = 15"
   ]
  },
  {
   "cell_type": "code",
   "execution_count": 1,
   "metadata": {
    "collapsed": true
   },
   "outputs": [],
   "source": [
    "# 작게 생각해보기\n",
    "\n",
    "\n",
    "# (1) 각 숫자를 분해하기 - 리스트 인덱싱 사용 / str()을 사용 / \n",
    "# (2) 분해한 것을 곱하기\n",
    "# (3) 곱한것들을 더하기\n",
    "\n",
    "# number_list => 분해 list => 곱한 것 list => 더한다"
   ]
  },
  {
   "cell_type": "code",
   "execution_count": 51,
   "metadata": {
    "collapsed": true
   },
   "outputs": [],
   "source": [
    "number_list = [i for i in range(10, 1001)]"
   ]
  },
  {
   "cell_type": "code",
   "execution_count": 74,
   "metadata": {
    "collapsed": false
   },
   "outputs": [
    {
     "data": {
      "text/plain": [
       "93150"
      ]
     },
     "execution_count": 74,
     "metadata": {},
     "output_type": "execute_result"
    }
   ],
   "source": [
    "result_list = []\n",
    "for i in number_list:\n",
    "    \n",
    "    multiply_list = 1\n",
    "    for num in str(i):\n",
    "        split_list = []\n",
    "        split_list.append(num)\n",
    "                \n",
    "        for num2 in split_list:\n",
    "            multiply_list *= int(num2)\n",
    "\n",
    "    result_list.append(multiply_list)\n",
    "            \n",
    "sum(result_list)"
   ]
  },
  {
   "cell_type": "code",
   "execution_count": 75,
   "metadata": {
    "collapsed": true
   },
   "outputs": [],
   "source": [
    "# (2) 다른 풀이"
   ]
  },
  {
   "cell_type": "code",
   "execution_count": 112,
   "metadata": {
    "collapsed": false
   },
   "outputs": [
    {
     "data": {
      "text/plain": [
       "[1, 0, 0]"
      ]
     },
     "execution_count": 112,
     "metadata": {},
     "output_type": "execute_result"
    }
   ],
   "source": [
    "[int(x) for x in str(100)] # 글자를 잘라냄"
   ]
  },
  {
   "cell_type": "markdown",
   "metadata": {},
   "source": [
    "reduce(lambda 변수:변수할 연산, 대상 값)\n",
    "\n",
    "대상 값에 int(x) for x in str(i) : str(i)에서 x를 뽑아냄"
   ]
  },
  {
   "cell_type": "code",
   "execution_count": 2,
   "metadata": {
    "collapsed": true
   },
   "outputs": [],
   "source": [
    "from functools import reduce"
   ]
  },
  {
   "cell_type": "code",
   "execution_count": 100,
   "metadata": {
    "collapsed": false
   },
   "outputs": [],
   "source": [
    "def multy_and_sum(i):\n",
    "    return reduce(lambda x, y: x * y, [int(x) for x in str(i)])"
   ]
  },
  {
   "cell_type": "code",
   "execution_count": 105,
   "metadata": {
    "collapsed": false
   },
   "outputs": [
    {
     "data": {
      "text/plain": [
       "93150"
      ]
     },
     "execution_count": 105,
     "metadata": {},
     "output_type": "execute_result"
    }
   ],
   "source": [
    "sum([multy_and_sum(i) for i in range(10, 1001)])"
   ]
  },
  {
   "cell_type": "code",
   "execution_count": 3,
   "metadata": {
    "collapsed": false
   },
   "outputs": [
    {
     "name": "stdout",
     "output_type": "stream",
     "text": [
      "93150\n"
     ]
    }
   ],
   "source": [
    "# (3) 한줄처리\n",
    "print(sum(map(lambda x:reduce(lambda a,b:int(a)*int(b),str(x)),range(10,1001))))"
   ]
  },
  {
   "cell_type": "code",
   "execution_count": null,
   "metadata": {
    "collapsed": true
   },
   "outputs": [],
   "source": [
    "# map에 대해 적어둘 것"
   ]
  }
 ],
 "metadata": {
  "kernelspec": {
   "display_name": "Python 3",
   "language": "python",
   "name": "python3"
  },
  "language_info": {
   "codemirror_mode": {
    "name": "ipython",
    "version": 3
   },
   "file_extension": ".py",
   "mimetype": "text/x-python",
   "name": "python",
   "nbconvert_exporter": "python",
   "pygments_lexer": "ipython3",
   "version": "3.5.1"
  }
 },
 "nbformat": 4,
 "nbformat_minor": 0
}
