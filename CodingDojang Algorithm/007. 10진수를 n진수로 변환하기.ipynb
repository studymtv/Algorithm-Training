{
 "cells": [
  {
   "cell_type": "markdown",
   "metadata": {},
   "source": [
    "# 007. 10진수를 n진수로 변환하기"
   ]
  },
  {
   "cell_type": "markdown",
   "metadata": {},
   "source": [
    "<img src=\"http://interactivepython.org/courselib/static/pythonds/_images/dectobin.png\">"
   ]
  },
  {
   "cell_type": "markdown",
   "metadata": {},
   "source": [
    "위 그림을 참조하여 라이브러리를 사용하지 말고 10진수를 n진수로 변환하는 프로그램을 작성하시오.. (단, n의 범위는 2 <= n <= 16)\n",
    "\n",
    "예)\n",
    "\n",
    "2진수로 변환 : 233 --> 11101001\n",
    "\n",
    "\n",
    "8진수로 변환 : 233 --> 351\n",
    "\n",
    "\n",
    "16진수로 변환 : 233 --> E9"
   ]
  },
  {
   "cell_type": "code",
   "execution_count": 1,
   "metadata": {
    "collapsed": true
   },
   "outputs": [],
   "source": [
    "#10진수를 2진수로 바꾸기\n"
   ]
  },
  {
   "cell_type": "code",
   "execution_count": 2,
   "metadata": {
    "collapsed": true
   },
   "outputs": [],
   "source": [
    "\n",
    "# Q) 2진수를 8진수, 16진수로 바꾸려면? \n",
    "# A) 소수점기준으로 8진수는 3칸, 16진수는 4칸 나눠서 십진변환해서 합치자!\n",
    "# 2진수 → 8진수 : 소수점 기준 3자리로 나눠서 십진변환\n",
    "# 2진수 → 16진수 : 소수점 기준 4자리로 나눠서 십진변환\n",
    "\n",
    "# 예 : 1010110(2) -> 8진수 변환\n",
    "# 1 / 010 / 110\n",
    "# 1 = 1\n",
    "# 010 = 2\n",
    "# 110 = 6\n",
    "\n",
    "# 1010110(2) = 126(8) \n",
    "\n",
    "# * 십진 ↔ 이진 변환 팁 \n",
    "# 8진수 : 4 / 2 / 1\n",
    "# 16진수 : 8 / 4 / 2 / 1\n",
    "\n",
    "# Q) 8진수, 16진수를 2진수로 바꾸려면? \n",
    "# A) 각자리수를 이진변환해서 합치자! \n",
    "# 8진수 → 2진수 : 각자리의 수를 이진변환\n",
    "# 16진수→ 2진수 : 각자리의 수를 이진변환 \n",
    "\n",
    "# 예 126(8) -> 2진수 변환\n",
    "\n",
    "# 1 = 001\n",
    "# 2 = 010\n",
    "# 6 = 110\n",
    "# 001010110 -> 1010110(2)\n",
    "\n",
    "# 126(8) = 1010110(2)\n",
    " \n",
    "# Q) 8진수 ↔ 16진수 상호변환 하는법은? \n",
    "# A) 2진수로 변환후 변환\n",
    "\n",
    "# * 16진수 문자\n",
    "# 10 = A\n",
    "# 11 = B\n",
    "# 12 = C\n",
    "# 13 = D \n",
    "# 14 = E\n",
    "# 15 = F"
   ]
  },
  {
   "cell_type": "code",
   "execution_count": null,
   "metadata": {
    "collapsed": true
   },
   "outputs": [],
   "source": []
  }
 ],
 "metadata": {
  "kernelspec": {
   "display_name": "Python 3",
   "language": "python",
   "name": "python3"
  },
  "language_info": {
   "codemirror_mode": {
    "name": "ipython",
    "version": 3
   },
   "file_extension": ".py",
   "mimetype": "text/x-python",
   "name": "python",
   "nbconvert_exporter": "python",
   "pygments_lexer": "ipython3",
   "version": "3.5.2"
  }
 },
 "nbformat": 4,
 "nbformat_minor": 0
}
