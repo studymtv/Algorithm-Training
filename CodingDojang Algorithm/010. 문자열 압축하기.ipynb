{
 "cells": [
  {
   "cell_type": "markdown",
   "metadata": {},
   "source": [
    "# 010. 문자열 압축하기"
   ]
  },
  {
   "cell_type": "markdown",
   "metadata": {},
   "source": [
    "문자열을 입력받아서, 같은 문자가 연속적으로 반복되는 경우에 그 반복 횟수를 표시하여 문자열을 압축하기.\n",
    "\n",
    "입력 예시: aaabbcccccca\n",
    "\n",
    "출력 예시: a3b2c6a1"
   ]
  },
  {
   "cell_type": "code",
   "execution_count": 1,
   "metadata": {
    "collapsed": true
   },
   "outputs": [],
   "source": [
    "# result = [] 만든 후, 첫 글자와 두번째 글자가 같다면 숫자를 더하고 같지 않다면 패스\n"
   ]
  },
  {
   "cell_type": "code",
   "execution_count": 115,
   "metadata": {
    "collapsed": false
   },
   "outputs": [
    {
     "name": "stdout",
     "output_type": "stream",
     "text": [
      "a2b1c3d1c1d1a5s1\n"
     ]
    }
   ],
   "source": [
    "text = 'aabcccdcdaaaaas'\n",
    "\n",
    "result = s[0]  \n",
    "count  = 0   \n",
    "\n",
    "for st in text:\n",
    "    if st == result[-1]:  \n",
    "        count += 1\n",
    "    else:\n",
    "        result += str(count) + st\n",
    "        count = 1\n",
    "result += str(count)\n",
    "\n",
    "print(result)"
   ]
  },
  {
   "cell_type": "code",
   "execution_count": null,
   "metadata": {
    "collapsed": true
   },
   "outputs": [],
   "source": []
  }
 ],
 "metadata": {
  "kernelspec": {
   "display_name": "Python 3",
   "language": "python",
   "name": "python3"
  },
  "language_info": {
   "codemirror_mode": {
    "name": "ipython",
    "version": 3
   },
   "file_extension": ".py",
   "mimetype": "text/x-python",
   "name": "python",
   "nbconvert_exporter": "python",
   "pygments_lexer": "ipython3",
   "version": "3.5.2"
  }
 },
 "nbformat": 4,
 "nbformat_minor": 0
}
