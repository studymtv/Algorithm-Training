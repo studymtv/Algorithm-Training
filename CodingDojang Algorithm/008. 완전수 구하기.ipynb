{
 "cells": [
  {
   "cell_type": "markdown",
   "metadata": {},
   "source": [
    "자기 자신을 제외한 모든 양의 약수들의 합이 자기 자신이 되는 자연수를 완전수라고 한다. \n",
    "\n",
    "예를 들면, 6과 28은 완전수이다. 6=1+2+3 // 1,2,3은 각각 6의 약수 28=1+2+4+7+14 // 1,2,4,7,14는 각각 28의 약수\n",
    "\n",
    "입력으로 자연수 N을 받고, 출력으로 N 이하의 모든 완전수를 출력하는 코드를 작성하라."
   ]
  },
  {
   "cell_type": "code",
   "execution_count": 1,
   "metadata": {
    "collapsed": true
   },
   "outputs": [],
   "source": [
    "# 입력 : 자연수 N\n",
    "# 출력 : N 이하의 모든 완전수"
   ]
  },
  {
   "cell_type": "code",
   "execution_count": 13,
   "metadata": {
    "collapsed": false
   },
   "outputs": [],
   "source": [
    "# 완전수 구하는 함수\n",
    "# x와 y를 나눈 후, 나머지가 0이면 일단 더함\n",
    "# 그 후 더한 값이랑 처음 값이랑 동일하면 출력 -> 아니면 패스\n",
    "\n",
    "# 단 메모리 구조상 효율적인 것 같진 않음..!"
   ]
  },
  {
   "cell_type": "code",
   "execution_count": 22,
   "metadata": {
    "collapsed": false,
    "scrolled": true
   },
   "outputs": [
    {
     "name": "stdout",
     "output_type": "stream",
     "text": [
      "숫자를 입력해주세요 : 1000\n",
      "6\n",
      "28\n",
      "496\n"
     ]
    }
   ],
   "source": [
    "num = int(input(\"숫자를 입력해주세요 : \"))\n",
    "\n",
    "for x in range(1, num+1):\n",
    "    result = 0\n",
    "    for y in range(1, x):\n",
    "        if x%y == 0:\n",
    "            result += y\n",
    "    if result == x:\n",
    "        print(\"%d\" %result)\n",
    "        "
   ]
  },
  {
   "cell_type": "markdown",
   "metadata": {},
   "source": [
    "## list comprehension을 이용한 풀이 (아직 미숙해서 더 많은 연습이 필요)"
   ]
  },
  {
   "cell_type": "code",
   "execution_count": 12,
   "metadata": {
    "collapsed": false
   },
   "outputs": [
    {
     "name": "stdout",
     "output_type": "stream",
     "text": [
      "숫자를 입력하시오 : 9\n",
      "[6]\n"
     ]
    }
   ],
   "source": [
    "num= int(input(\"숫자를 입력하시오 : \"))\n",
    "print([x for x in range(1, num+1) if x==sum(y for y in range(1, x) if x%y==0)])"
   ]
  },
  {
   "cell_type": "code",
   "execution_count": 11,
   "metadata": {
    "collapsed": false
   },
   "outputs": [
    {
     "data": {
      "text/plain": [
       "[27, 18, 46, 51, 99, 70, 48, 49, 6]"
      ]
     },
     "execution_count": 11,
     "metadata": {},
     "output_type": "execute_result"
    }
   ],
   "source": [
    "l = [22, 13, 45, 50, 98, 69, 43, 44, 1]\n",
    "[x+1 if x >= 45 else x+5 for x in l]"
   ]
  },
  {
   "cell_type": "code",
   "execution_count": 5,
   "metadata": {
    "collapsed": true
   },
   "outputs": [],
   "source": [
    "# [ expression for item in list if conditional ]\n",
    "# 아래와 동일\n",
    "\n",
    "# for item in list:\n",
    "#     if conditional:\n",
    "#         expression"
   ]
  },
  {
   "cell_type": "code",
   "execution_count": null,
   "metadata": {
    "collapsed": true
   },
   "outputs": [],
   "source": []
  }
 ],
 "metadata": {
  "kernelspec": {
   "display_name": "Python 3",
   "language": "python",
   "name": "python3"
  },
  "language_info": {
   "codemirror_mode": {
    "name": "ipython",
    "version": 3
   },
   "file_extension": ".py",
   "mimetype": "text/x-python",
   "name": "python",
   "nbconvert_exporter": "python",
   "pygments_lexer": "ipython3",
   "version": "3.5.2"
  }
 },
 "nbformat": 4,
 "nbformat_minor": 0
}
