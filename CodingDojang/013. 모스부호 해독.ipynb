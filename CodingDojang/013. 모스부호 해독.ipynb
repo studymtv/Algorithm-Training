{
 "cells": [
  {
   "cell_type": "markdown",
   "metadata": {},
   "source": [
    "# 013. 모스부호 해독\n",
    "\n",
    "문자열 형식으로 입력 받은 모스코드(dot: . dash:-)를 해독하여 영어 문장으로 출력하는 프로그램을 작성하시오.\n",
    "\n",
    "글자와 글자 사이는 공백 하나, 단어와 단어 사이는 공백 두개로 구분한다.\n",
    "\n",
    "예를 들어 다음 모스부호는 \"he sleeps early\"로 해석해야 한다.\n",
    "\n",
    ".... .  ... .-.. . . .--. ...  . .- .-. .-.. -.--\n",
    "\n",
    "모스부호 규칙 표 참조"
   ]
  },
  {
   "cell_type": "code",
   "execution_count": 1,
   "metadata": {
    "collapsed": true
   },
   "outputs": [],
   "source": [
    "# dictionary를 활용해 key - value로 수정\n",
    "# 단어와 단어 사이는 공백 2개\n",
    "# 글자와 글자 사이는 공백 1개"
   ]
  },
  {
   "cell_type": "code",
   "execution_count": 29,
   "metadata": {
    "collapsed": true
   },
   "outputs": [],
   "source": [
    "mos_dic = {\n",
    "    '.-':'a','-...':'b','-.-.':'c','-..':'d','.':'e','..-.':'f',\n",
    "    '--.':'g','....':'h','..':'i','.---':'j','-.-':'k','.-..':'l',\n",
    "    '--':'m','-.':'n','---':'o','.--.':'p','--.-':'q','.-.':'r',\n",
    "    '...':'s','-':'t','..-':'u','...-':'v','.--':'w','-..-':'x',\n",
    "    '-.--':'y','--..':'z', '':' '\n",
    "    }\n",
    "\n",
    "mos_data = \".... .  ... .-.. . . .--. ...  . .- .-. .-.. -.--\""
   ]
  },
  {
   "cell_type": "code",
   "execution_count": 35,
   "metadata": {
    "collapsed": false
   },
   "outputs": [
    {
     "data": {
      "text/plain": [
       "'o'"
      ]
     },
     "execution_count": 35,
     "metadata": {},
     "output_type": "execute_result"
    }
   ],
   "source": [
    "mos_dic[\"---\"]"
   ]
  },
  {
   "cell_type": "code",
   "execution_count": 36,
   "metadata": {
    "collapsed": false
   },
   "outputs": [
    {
     "name": "stdout",
     "output_type": "stream",
     "text": [
      "he sleeps early\n"
     ]
    }
   ],
   "source": [
    "result = \"\"\n",
    "for mos in mos_data.split(\" \"):\n",
    "    result += mos_dic[mos]\n",
    "print(result)\n"
   ]
  },
  {
   "cell_type": "code",
   "execution_count": null,
   "metadata": {
    "collapsed": true
   },
   "outputs": [],
   "source": []
  }
 ],
 "metadata": {
  "kernelspec": {
   "display_name": "Python 3",
   "language": "python",
   "name": "python3"
  },
  "language_info": {
   "codemirror_mode": {
    "name": "ipython",
    "version": 3
   },
   "file_extension": ".py",
   "mimetype": "text/x-python",
   "name": "python",
   "nbconvert_exporter": "python",
   "pygments_lexer": "ipython3",
   "version": "3.5.2"
  }
 },
 "nbformat": 4,
 "nbformat_minor": 0
}
