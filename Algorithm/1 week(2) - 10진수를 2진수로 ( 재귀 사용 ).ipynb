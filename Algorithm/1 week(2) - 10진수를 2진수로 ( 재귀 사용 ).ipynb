{
 "cells": [
  {
   "cell_type": "code",
   "execution_count": 7,
   "metadata": {},
   "outputs": [
    {
     "name": "stdout",
     "output_type": "stream",
     "text": [
      "2\n",
      "10\n"
     ]
    }
   ],
   "source": [
    "import sys\n",
    "sys.setrecursionlimit(100000)\n",
    "\n",
    "def convertBinary(n) :\n",
    "    '''\n",
    "    10진수 n을 2진수로 변환하여 반환합니다.\n",
    "\n",
    "    *주의* : 변환된 2진수는 문자열이어야 합니다.\n",
    "\n",
    "    예를 들어, 19가 입력될 경우 문자열 \"10011\"이 반환되어야 합니다.\n",
    "    0. 1 혹은 0일 경우 처리\n",
    "    1. 2로 나눈다 \n",
    "    2. 몫을 남기고 패스\n",
    "    '''\n",
    "    T = \"0123456789ABCDEF\"\n",
    "    q, r = divmod(n, 2) # n 뒤의 숫자를 바꾸면 8, 16진수로도 바꿀 수 있음\n",
    "    if q == 0:\n",
    "        return T[r]\n",
    "    else:\n",
    "        return convertBinary(q) + T[r]\n",
    "\n",
    "    return \"0\"\n",
    "\n",
    "def main():\n",
    "\n",
    "    n = int(input())\n",
    "\n",
    "    print(convertBinary(n))\n",
    "\n",
    "if __name__ == \"__main__\":\n",
    "    main()\n"
   ]
  },
  {
   "cell_type": "code",
   "execution_count": 2,
   "metadata": {},
   "outputs": [
    {
     "data": {
      "text/plain": [
       "(2, 1)"
      ]
     },
     "execution_count": 2,
     "metadata": {},
     "output_type": "execute_result"
    }
   ],
   "source": [
    "divmod(5,2)"
   ]
  },
  {
   "cell_type": "code",
   "execution_count": 3,
   "metadata": {},
   "outputs": [
    {
     "data": {
      "text/plain": [
       "(3, 0)"
      ]
     },
     "execution_count": 3,
     "metadata": {},
     "output_type": "execute_result"
    }
   ],
   "source": [
    "divmod(3,1)"
   ]
  },
  {
   "cell_type": "markdown",
   "metadata": {},
   "source": [
    "divmod는 몫과 나머지는 튜플 형태로 받음!"
   ]
  },
  {
   "cell_type": "code",
   "execution_count": null,
   "metadata": {
    "collapsed": true
   },
   "outputs": [],
   "source": []
  }
 ],
 "metadata": {
  "kernelspec": {
   "display_name": "Python 3",
   "language": "python",
   "name": "python3"
  },
  "language_info": {
   "codemirror_mode": {
    "name": "ipython",
    "version": 3
   },
   "file_extension": ".py",
   "mimetype": "text/x-python",
   "name": "python",
   "nbconvert_exporter": "python",
   "pygments_lexer": "ipython3",
   "version": "3.6.1"
  },
  "latex_envs": {
   "LaTeX_envs_menu_present": true,
   "autocomplete": true,
   "bibliofile": "biblio.bib",
   "cite_by": "apalike",
   "current_citInitial": 1,
   "eqLabelWithNumbers": true,
   "eqNumInitial": 1,
   "hotkeys": {
    "equation": "Ctrl-E",
    "itemize": "Ctrl-I"
   },
   "labels_anchors": false,
   "latex_user_defs": false,
   "report_style_numbering": false,
   "user_envs_cfg": false
  }
 },
 "nbformat": 4,
 "nbformat_minor": 2
}
