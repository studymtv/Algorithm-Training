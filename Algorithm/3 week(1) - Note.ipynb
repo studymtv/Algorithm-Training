{
 "cells": [
  {
   "cell_type": "markdown",
   "metadata": {},
   "source": [
    "# 3 Week - Note"
   ]
  },
  {
   "cell_type": "markdown",
   "metadata": {},
   "source": [
    "## Complexity Theory \n",
    "\n",
    "### 생각해볼 점\n",
    "- 각 문제마다 풀이의 시간복잡도가 다르다\n",
    "- 연속부분 최대합 : O(n^3), 균형 맞추기 : O(2^n)\n",
    "\n",
    "- 내 풀이가 얼마나 좋은 풀이인가? (예를 들어 균형 맞추기는 O(n^3)에 불가능한가?)\n",
    "\n",
    "\n",
    "\n",
    "- 문제 자체에도 복잡도가 존재한다. => 빨리 풀 수 있는 문제가 있고, 그렇지 않은 문제가 있다!!!!!!\n",
    "\n",
    "\n",
    "## 문제의 생태계를 생각해봅시다!\n",
    "### P class\n",
    "- 다항 시간 내에 해결 가능한 문제들의 집합 ( n^k )\n",
    "- 문제가 P 집합 안에 있다는 의미\n",
    "\n",
    "### NP-Complete class\n",
    "- 다항 시간 내에 해결이 불가능한 문제들의 집합\n",
    "- 균형 맞추기 시간 복잡도는 2^n..! 이런 친구들\n",
    "\n",
    "\n",
    "### 거의 대부분 P문제들만을 다룸. \n",
    "- 가능한 모든 경우는 2^n으로 보이지만 실제로 적은 수의 경우만 고려하면 충분한 문제를 다룸!\n",
    "### 알고리즘에서는 고려해야 하는 경우를 줄이는 방법을 배움!\n",
    "- 어떻게 좀 더 줄일지에 대한 고민을 계속 하게 됩니다\n",
    "### 하지만 대표적인 NP-Complete 문제는 알면 좋습니다\n",
    "- NP-Complete로 유명한 문제를 굳이 다항시간에 풀려고 하는 일을 미연에 방지할 수 있기 때문..! \n",
    "- ex) 모든 경우를 다 해야되요! 이건 NP-Complete거든요!"
   ]
  },
  {
   "cell_type": "code",
   "execution_count": 2,
   "metadata": {
    "collapsed": true
   },
   "outputs": [],
   "source": [
    "# 재귀호출을 이용한 문제 해결\n",
    "# [예제 1] 가장 가까운 값 찾기\n",
    "# 정렬된 n개의 숫자 중 정수 m과 가장 가까운 값을 찾아라\n",
    "# 단, 1<=n<=100,000\n",
    "\n",
    "# 가장 처음 시도해야하는 것은! 완전 탐색법으로 풀어야함!!!!!!!!!!!!!!!!!!!\n",
    "\n",
    "\n",
    "# 값이 정렬되어 있으면! 이진 탐색을 할 수 있음 ( Binary search ) : 절반씩 나누면서 탐색\n",
    "# 1 4 6 7 10 14 16\n",
    "# 14를 찾고 싶음!\n",
    "# 중간 값을 보면 7, 고로 왼쪽 값들은 고려하지 않음\n",
    "# 그 이후 남은 10 14 16의 중간 값을 고름. 14 오! 맞음! 고고! 이런 상황\n",
    "# 한번 할 때마다 절반이 날라감!\n",
    "\n",
    "# 숫자가 16개면 8 4 2 1 0 5번안에 가능..! \n",
    "# N개면 n/2 .. n/4.... logn번안에 가능..!\n",
    "\n"
   ]
  },
  {
   "cell_type": "code",
   "execution_count": null,
   "metadata": {
    "collapsed": true
   },
   "outputs": [],
   "source": []
  }
 ],
 "metadata": {
  "kernelspec": {
   "display_name": "Python 3",
   "language": "python",
   "name": "python3"
  },
  "language_info": {
   "codemirror_mode": {
    "name": "ipython",
    "version": 3
   },
   "file_extension": ".py",
   "mimetype": "text/x-python",
   "name": "python",
   "nbconvert_exporter": "python",
   "pygments_lexer": "ipython3",
   "version": "3.6.1"
  },
  "latex_envs": {
   "LaTeX_envs_menu_present": true,
   "autocomplete": true,
   "bibliofile": "biblio.bib",
   "cite_by": "apalike",
   "current_citInitial": 1,
   "eqLabelWithNumbers": true,
   "eqNumInitial": 1,
   "hotkeys": {
    "equation": "Ctrl-E",
    "itemize": "Ctrl-I"
   },
   "labels_anchors": false,
   "latex_user_defs": false,
   "report_style_numbering": false,
   "user_envs_cfg": false
  }
 },
 "nbformat": 4,
 "nbformat_minor": 2
}
