{
 "cells": [
  {
   "cell_type": "code",
   "execution_count": 2,
   "metadata": {
    "collapsed": true
   },
   "outputs": [],
   "source": [
    "import sys\n",
    "sys.setrecursionlimit(100000)\n",
    "\n",
    "def strContain(A, B) :\n",
    "    '''\n",
    "    문자열 A의 알파벳이 문자열 B에 모두 포함되어 있으면 \"Yes\", 아니면 \"No\"를 반환합니다.\n",
    "    \n",
    "    for문으로 하면 쉬울텐데... 음...\n",
    "    \n",
    "    우선 A의 알파벳 처음부터 len(A)까지 진행한다\n",
    "    if a in b:\n",
    "        계속 go + strContain()\n",
    "        \n",
    "    if a not in b:\n",
    "        return no\n",
    "    '''\n",
    "\n",
    "    return \"No\"\n",
    "\n",
    "def main():\n",
    "    '''\n",
    "    Do not change this code\n",
    "    '''\n",
    "\n",
    "    A = input()\n",
    "    B = input()\n",
    "\n",
    "    print(strContain(A, B))\n",
    "\n",
    "if __name__ == \"__main__\":\n",
    "    main()\n"
   ]
  },
  {
   "cell_type": "code",
   "execution_count": 4,
   "metadata": {
    "collapsed": true
   },
   "outputs": [],
   "source": [
    "b = 'abcd'"
   ]
  },
  {
   "cell_type": "code",
   "execution_count": 7,
   "metadata": {},
   "outputs": [
    {
     "name": "stdout",
     "output_type": "stream",
     "text": [
      "true\n",
      "false\n",
      "true\n",
      "true\n"
     ]
    }
   ],
   "source": [
    "for i in 'akbc':\n",
    "    if i in b:\n",
    "        print('true')\n",
    "    else:\n",
    "        print('no')"
   ]
  },
  {
   "cell_type": "code",
   "execution_count": 20,
   "metadata": {
    "collapsed": true
   },
   "outputs": [],
   "source": [
    "def strContain(A, B):\n",
    "    k = 0\n",
    "    for i in A:\n",
    "        if i in B:\n",
    "            k+=0\n",
    "        else:\n",
    "            k+=1\n",
    "            \n",
    "    if k == 0:\n",
    "        return \"YES\"\n",
    "    else:\n",
    "        return \"NO\""
   ]
  },
  {
   "cell_type": "code",
   "execution_count": 26,
   "metadata": {
    "scrolled": false
   },
   "outputs": [
    {
     "data": {
      "text/plain": [
       "'NO'"
      ]
     },
     "execution_count": 26,
     "metadata": {},
     "output_type": "execute_result"
    }
   ],
   "source": [
    "strContain('ab1c','abacd')"
   ]
  },
  {
   "cell_type": "markdown",
   "metadata": {},
   "source": [
    "# 이제 재귀로.."
   ]
  },
  {
   "cell_type": "code",
   "execution_count": 56,
   "metadata": {
    "collapsed": true
   },
   "outputs": [],
   "source": [
    "def strContain(A, B):\n",
    "    if len(A) <= 1:\n",
    "        if A in B:\n",
    "            return 'YES'\n",
    "        else:\n",
    "            return 'NO'\n",
    "    elif A[0] in B:\n",
    "        return strContain(A[1:], B)\n",
    "    else:\n",
    "        return 'NO'"
   ]
  },
  {
   "cell_type": "code",
   "execution_count": 43,
   "metadata": {},
   "outputs": [
    {
     "data": {
      "text/plain": [
       "'YES'"
      ]
     },
     "execution_count": 43,
     "metadata": {},
     "output_type": "execute_result"
    }
   ],
   "source": [
    "strContain('AAB','AB')"
   ]
  },
  {
   "cell_type": "code",
   "execution_count": 57,
   "metadata": {},
   "outputs": [
    {
     "name": "stdout",
     "output_type": "stream",
     "text": [
      "1\n"
     ]
    },
    {
     "data": {
      "text/plain": [
       "'NO'"
      ]
     },
     "execution_count": 57,
     "metadata": {},
     "output_type": "execute_result"
    }
   ],
   "source": [
    "strContain('','a')"
   ]
  },
  {
   "cell_type": "code",
   "execution_count": 55,
   "metadata": {},
   "outputs": [
    {
     "name": "stdout",
     "output_type": "stream",
     "text": [
      "a\n"
     ]
    }
   ],
   "source": [
    "if '' in '':\n",
    "    print('a')"
   ]
  },
  {
   "cell_type": "code",
   "execution_count": null,
   "metadata": {
    "collapsed": true
   },
   "outputs": [],
   "source": [
    "def strContain(A, B):\n",
    "    if len(A) <= 1:\n",
    "        if A in B:\n",
    "            if A == '':\n",
    "                return 'NO'\n",
    "            else:\n",
    "                return 'YES'\n",
    "        else:\n",
    "            return 'NO'\n",
    "    elif A[0] in B:\n",
    "        return strContain(A[1:], B)\n",
    "    else:\n",
    "        return 'NO'"
   ]
  }
 ],
 "metadata": {
  "kernelspec": {
   "display_name": "Python 3",
   "language": "python",
   "name": "python3"
  },
  "language_info": {
   "codemirror_mode": {
    "name": "ipython",
    "version": 3
   },
   "file_extension": ".py",
   "mimetype": "text/x-python",
   "name": "python",
   "nbconvert_exporter": "python",
   "pygments_lexer": "ipython3",
   "version": "3.6.1"
  },
  "latex_envs": {
   "LaTeX_envs_menu_present": true,
   "autocomplete": true,
   "bibliofile": "biblio.bib",
   "cite_by": "apalike",
   "current_citInitial": 1,
   "eqLabelWithNumbers": true,
   "eqNumInitial": 1,
   "hotkeys": {
    "equation": "Ctrl-E",
    "itemize": "Ctrl-I"
   },
   "labels_anchors": false,
   "latex_user_defs": false,
   "report_style_numbering": false,
   "user_envs_cfg": false
  }
 },
 "nbformat": 4,
 "nbformat_minor": 2
}
