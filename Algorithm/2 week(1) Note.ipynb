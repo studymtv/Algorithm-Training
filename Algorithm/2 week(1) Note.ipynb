{
 "cells": [
  {
   "cell_type": "markdown",
   "metadata": {},
   "source": [
    "# 문제 해결의 절차\n",
    "1. 문제를 정확히 이해한다\n",
    "2. 문제를 해결하는 알고리즘을 개발한다\n",
    "3. 알고리즘이 문제를 해결한다는 것을 증명한다\n",
    "4. 알고리즘이 제한시간 내에 동작한다는 것을 보인다\n",
    "5. 알고리즘을 코드로 작성한다\n",
    "6. 제출 후 만점을 받고 매우 기뻐한다\n",
    "\n",
    "** 단, 여기서 4번까지는 코드가 아닌 손으로 만들어본다-!!!"
   ]
  },
  {
   "cell_type": "markdown",
   "metadata": {},
   "source": [
    "4번을 보일 때 사용하는 지표가 필요한데, 이것이 바로 **시간복잡도**\n",
    "# 시간복잡도\n",
    "- 알고리즘이 대략 몇개의 명령을 수행하는가?"
   ]
  },
  {
   "cell_type": "code",
   "execution_count": 2,
   "metadata": {
    "collapsed": true
   },
   "outputs": [],
   "source": [
    "sum = 0\n",
    "for i in range(n):\n",
    "    for j in range(i) :\n",
    "        sum = sum + i + j\n",
    "        \n",
    "#n^2 + 2n +3 => "
   ]
  },
  {
   "cell_type": "code",
   "execution_count": null,
   "metadata": {
    "collapsed": true
   },
   "outputs": [],
   "source": [
    "def findNumber(myList, target): #[1,2,4,3] ,4\n",
    "    \n",
    "    for v in myList:\n",
    "        if v == target :\n",
    "            return True\n",
    "\n",
    "        return False\n",
    "    \n"
   ]
  },
  {
   "cell_type": "markdown",
   "metadata": {},
   "source": [
    "- my list에 target이 있으면 T, 아니면 F\n",
    "- target이 1이면 한번에 잘찾아서 빠르고, -1이면 없어서 못찾음(재수가 없음)\n",
    "### 시간 복잡도는 최악의 경우에 얼마나 걸리는지 확인함\n",
    "- 원소의 개수가 N개면 N번 걸림 => O(N)"
   ]
  },
  {
   "cell_type": "markdown",
   "metadata": {},
   "source": [
    "연산의 개수로 했는데 (몇번할지) = 하지만 몇초가 걸린다고는 안했음\n",
    "- 몇 개의 명령을 수행해야 1초가 걸리는가?"
   ]
  },
  {
   "cell_type": "code",
   "execution_count": null,
   "metadata": {
    "collapsed": true
   },
   "outputs": [],
   "source": [
    "for i in range(n):\n",
    "    sum = sum+1\n",
    "    \n",
    "# O(n)\n",
    "    \n",
    "    \n",
    "for i in range(n):\n",
    "    for j in range(n):\n",
    "        sum = sum+1\n",
    "        \n",
    "# O(n^2)"
   ]
  },
  {
   "cell_type": "markdown",
   "metadata": {},
   "source": [
    "n개의 숫자가 주어질 때, 몇 번의 연산이 필요한가?\n",
    "\n",
    "### 숫자 하나를 입력받을 때마다 정렬을 하는 케이스\n",
    "\n",
    "정렬 알고리즘 O(n*log(n))의 시간 복잡도를 가짐\n",
    "nlogn, 2log2, 3log3, .....\n",
    "\n",
    "\n",
    "원소 1개 입력받고 1개 정렬, 1개 입력받고 2개 정렬, 1개 입력받고 3개 정렬... 1개를 추가받고 전체를 정렬함"
   ]
  },
  {
   "cell_type": "markdown",
   "metadata": {},
   "source": [
    "n개의 숫자가 있으므로 n번의 정렬을 함\n",
    "\n",
    "\n",
    "n * (nlogn) <= O(n^2logn)\n",
    "\n",
    "\n",
    "이럴 경우 n의 값을 줌..! n=100일 경우 값을 넣으면 약 70000번 연산을 수행함"
   ]
  },
  {
   "cell_type": "markdown",
   "metadata": {},
   "source": [
    "- 알고리즘 : 문제를 해결하는 방법 -> 계산을 통하여 해결할 수 있는 문제를 해결하는 방법\n",
    "# 완전 탐색 ( Brute-Force ) : 문제를 해결하는 한가지 방법 중, 가능한 모든 경우를 시도해 보는 것\n",
    "\n",
    "### 가능한 모든 경우가 무엇인가? \n",
    "- 가능한 모든 경우 : 탐색 공간 ( Search Space )\n",
    "- 가능한 모든 경우를 전부 고려해도 괜찮을 경우에는 고려해도 상관없다! 라는 결론이 나면 완전 탐색을 사용할 수 있음"
   ]
  },
  {
   "cell_type": "code",
   "execution_count": 5,
   "metadata": {
    "collapsed": true
   },
   "outputs": [],
   "source": [
    "# 연속 부분 최대합\n",
    "# 연속된 부분을 선택하였을 때, 그 최대 합을 출력"
   ]
  },
  {
   "cell_type": "markdown",
   "metadata": {},
   "source": [
    "# 완전 탐색의 중요성\n",
    "- 문제가 주어지면 무조건 완전 탐색법으로 먼저 시도해야 한다!!!"
   ]
  },
  {
   "cell_type": "markdown",
   "metadata": {},
   "source": [
    "상식적인 문제 해결의 흐름\n",
    "\n",
    "A라는 방법으로 시도해봤더니 안되더라\n",
    "\n",
    "왜냐하면 a라는 이유 떄문에\n",
    "\n",
    "따라서 a를 해결하는 B라는 방법으로 해봤더니 안되더라\n",
    "\n",
    "왜냐하면 b라는 이유때문에\n",
    "\n",
    "따라서 f를 해결하는 G라는 방법으로 해봤더니 되더라!!!\n",
    "\n",
    "\n",
    "\n",
    "A : 완전 탐색\n",
    "\n",
    "완전 탐색이 안되면 다른 솔루션을 찾아보고, 되면 완전 탐색으로 Go!\n"
   ]
  },
  {
   "cell_type": "markdown",
   "metadata": {},
   "source": [
    "### 가능한 모든 연속 구간이 몇개나 있나? 를 생각해보자\n",
    "\n",
    "- 연속 부분은 (start, end)로 정의됨 -> 이 쌍이 얼마나 되는지 파악하면 됨\n",
    "- 원소가 8개면 8~1까지 더한만큼 존재함..! => 28개\n",
    "- N개라면 O(n^2)개의 경우가 있음. n(n+1)/2 가 합인데 /2는 제거하고 봐도 됨)\n",
    "\n",
    "- 전체 시간 : (가능한 경우의 수) x (하나의 경우에 걸리는 시간)\n",
    "- O(n^3) = O(n^2) x O(n))"
   ]
  },
  {
   "cell_type": "code",
   "execution_count": null,
   "metadata": {
    "collapsed": true
   },
   "outputs": [],
   "source": [
    "import sys\n",
    "\n",
    "def getSubsum(data) :\n",
    "    '''\n",
    "    n개의 숫자가 list로 주어질 때, 그 연속 부분 최대합을 반환하는 함수를 작성하세요.\n",
    "    \n",
    "\t완전 탐색 방법으로 할 것임\n",
    "\t\n",
    "\t시작점 잡고, 끝 점을 잡고 그 사이값들을 더하면 됨\n",
    "\tstart : 시작점\n",
    "\tend : 끝점\n",
    "\t\n",
    "\t\n",
    "\t'''\n",
    "\t\n",
    "    result = -99999123123\n",
    "\n",
    "    for start in range(0, len(data)):\n",
    "        for end in range(start, len(data)):\n",
    "\t\t\t# (start, end)가 정해짐\n",
    "\n",
    "            mySum = 0\n",
    "\n",
    "            for i in range(start, end+1):\n",
    "                mySum += data[i]\t\n",
    "\n",
    "            result = max(result, mySum)\n",
    "\n",
    "\n",
    "    return result\n",
    "\n",
    "def main():\n",
    "    '''\n",
    "    이 부분은 수정하지 마세요.\n",
    "    '''\n",
    "\n",
    "    data = [int(x) for x in input().split()]\n",
    "\n",
    "    print(getSubsum(data))\n",
    "\n",
    "if __name__ == \"__main__\":\n",
    "    main()\n"
   ]
  },
  {
   "cell_type": "code",
   "execution_count": 6,
   "metadata": {
    "collapsed": true
   },
   "outputs": [],
   "source": [
    "# 예제3. 균형 맞추기\n",
    "# n개의 숫자가 주어진다. 이제 이 숫자를 두 개의 그룹으로 나눌 것이다. 예를 들어 5개의 숫자 [1, -3, 4, 5, -2] 가 주어진다면, 이를 두 개의 그룹으로 나누는 경우는 여러가지가 있을 수 있다. 가능한 경우로써 [1, -3], [4, 5, -2] 가 있을 수 있고, 또 다른 경우로는 [1, 4, -2], [-3, 5] 가 있을 수 있다.\n",
    "# 나눈 두 그룹을 A, B라고 할 때, (A의 원소의 합) - (B의 원소의 합) 의 절댓값을 최소화 하는 프로그램을 작성하시오. 위의 예제에서는 A = [1, 4, -2], B = [-3, 5] 라고 하였을 때 (A의 원소의 합) - (B의 원소의 합) 의 절댓값 = |3 - 2| = 1 이며, 이보다 더 작은 값을 만드는 A, B는 존재하지 않는다.\n",
    "# 가능한 가지수 : 2^5 = 부분 집합의 개수"
   ]
  },
  {
   "cell_type": "markdown",
   "metadata": {},
   "source": [
    "문제 해결 증명\n",
    "- 2^n가지의 모든 가능한 경우를 시도해보므로 답을 구할 수 있다\n",
    "\n",
    "시간 복잡도\n",
    "- O(n*2^n)\n",
    "- n=10, 10240! 2500만보다 작음. 1초안에 나옴!"
   ]
  },
  {
   "cell_type": "markdown",
   "metadata": {},
   "source": [
    "# 예제2. 멱집합 구하기\n",
    "- n개의 원소를 가지는 집합의 멱집합 구하기!!! < 재귀로 할 수 밖에.. >\n",
    "\n",
    "    1) 함수 정의\n",
    "    \n",
    "    2) 기저 조건 처리\n",
    "    \n",
    "    3) 기저 조건 아닐 경우 처리\n",
    "    \n",
    "- 전체 경우 : 1을 선택하는 경우와 1을 선택하지 않는 경우\n",
    "\n",
    "\n",
    "1\n",
    "\n",
    "1 2\n",
    "\n",
    "1 2 3\n",
    "\n",
    "1 3\n",
    "\n",
    "2\n",
    "\n",
    "2 3\n",
    "\n",
    "3\n",
    "\n",
    "뭔가가 반복되고 있음..!!!!"
   ]
  },
  {
   "cell_type": "code",
   "execution_count": 7,
   "metadata": {
    "collapsed": true
   },
   "outputs": [],
   "source": [
    "\n",
    "def getPowerSet(n, k): #k를 첫 원소로 갖는 집합을 반환\n",
    "    pass\n",
    "\n",
    "# getPowerSet(3,1)+getPowerSet(3,2)+getPowerSet(3,3)\n"
   ]
  },
  {
   "cell_type": "code",
   "execution_count": null,
   "metadata": {
    "collapsed": true
   },
   "outputs": [],
   "source": [
    "# 기저 조건 : (3, 3)일 경우!!! n == k -> return [[n]]"
   ]
  },
  {
   "cell_type": "code",
   "execution_count": null,
   "metadata": {
    "collapsed": true
   },
   "outputs": [],
   "source": [
    "import sys\n",
    "\n",
    "def getPowerSet(n, k):\n",
    "    '''\n",
    "    n개의 원소가 있고, k를 가장 처음으로 선택하는 경우의 멱집합을 반환\n",
    "    \n",
    "    getPowerSet(3, 2) = [[2], [2,3]]\n",
    "    \n",
    "    '''\n",
    "    if n == k:\n",
    "        return [ [n] ]\n",
    "    else:\n",
    "        # [1], [1, 2 ....], [1, 3. ...]\n",
    "        result = [ [k] ]\n",
    "        \n",
    "        temp = []\n",
    "        for i in range(k+1, n+1):\n",
    "            temp = temp + getPowerSet(n, i)\n",
    "            \n",
    "        for i in range(len(temp)):\n",
    "            temp[i] = [k] + temp[i]\n",
    "            \n",
    "        return result + temp\n",
    "\n",
    "def powerSet(n) :\n",
    "    '''\n",
    "    n개의 원소를 가지는 집합 A의 멱집합의 원소를 사전 순서대로 list로 반환하는 함수를 작성하시오.\n",
    "\n",
    "    예를 들어, n = 3 일 경우 다음의 list를 반환한다.\n",
    "\n",
    "    [ [1], [1, 2], [1, 3], [1, 2, 3], [2], [2, 3], [3] ]\n",
    "    '''\n",
    "    \n",
    "\n",
    "#    getPowerSet(n, k): #k를 첫 원소로 갖는 집합을 반환\n",
    "    # getPowerSet(3,1)+getPowerSet(3,2)+getPowerSet(3,3)\n",
    "    result = []\n",
    "    for i in range(1, n+1):\n",
    "        result = result + getPowerSet(n, i)\n",
    "        \n",
    "    \n",
    "    return result\n",
    "    \n",
    "def main():\n",
    "    '''\n",
    "    이 부분은 수정하지 마세요.\n",
    "    '''\n",
    "\n",
    "    n = int(input())\n",
    "\n",
    "    result = powerSet(n)\n",
    "    \n",
    "    for line in result :\n",
    "        print(*line)\n",
    "\n",
    "if __name__ == \"__main__\":\n",
    "    main()\n"
   ]
  },
  {
   "cell_type": "markdown",
   "metadata": {},
   "source": [
    "# 예제 3. 균형 맞추기"
   ]
  },
  {
   "cell_type": "code",
   "execution_count": null,
   "metadata": {
    "collapsed": true
   },
   "outputs": [],
   "source": [
    "def getPowerSet(n, k) :\n",
    "    '''\n",
    "    n개의 원소가 있고, k를 가장 처음으로\n",
    "    선택하는 경우의 멱집합을 반환\n",
    "    \n",
    "    getPowerSet(3, 2) = [ [2], [2, 3] ]\n",
    "    '''\n",
    "    \n",
    "    if n == k :\n",
    "        return [ [n] ]\n",
    "    else :\n",
    "        \n",
    "        result = [ [k] ]\n",
    "        temp = []\n",
    "        \n",
    "        for i in range(k+1, n+1) :\n",
    "            temp = temp + getPowerSet(n, i)\n",
    "        \n",
    "        for i in range(len(temp)) :\n",
    "            temp[i] = [k] + temp[i]\n",
    "            \n",
    "        return result + temp\n",
    "    \n",
    "def powerSet(n) :\n",
    "    '''\n",
    "    n개의 원소를 가지는 집합 A의 멱집합의 원소를 사전 순서대로 list로 반환하는 함수를 작성하시오.\n",
    "\n",
    "    예를 들어, n = 3 일 경우 다음의 list를 반환한다.\n",
    "\n",
    "    [ [1], [1, 2], [1, 3], [1, 2, 3], [2], [2, 3], [3] ]\n",
    "    '''\n",
    "    \n",
    "    result = []\n",
    "    \n",
    "    for i in range(1, n+1) :\n",
    "        result = result + getPowerSet(n, i)\n",
    "        \n",
    "    return result"
   ]
  }
 ],
 "metadata": {
  "kernelspec": {
   "display_name": "Python 3",
   "language": "python",
   "name": "python3"
  },
  "language_info": {
   "codemirror_mode": {
    "name": "ipython",
    "version": 3
   },
   "file_extension": ".py",
   "mimetype": "text/x-python",
   "name": "python",
   "nbconvert_exporter": "python",
   "pygments_lexer": "ipython3",
   "version": "3.6.1"
  },
  "latex_envs": {
   "LaTeX_envs_menu_present": true,
   "autocomplete": true,
   "bibliofile": "biblio.bib",
   "cite_by": "apalike",
   "current_citInitial": 1,
   "eqLabelWithNumbers": true,
   "eqNumInitial": 1,
   "hotkeys": {
    "equation": "Ctrl-E",
    "itemize": "Ctrl-I"
   },
   "labels_anchors": false,
   "latex_user_defs": false,
   "report_style_numbering": false,
   "user_envs_cfg": false
  }
 },
 "nbformat": 4,
 "nbformat_minor": 2
}
