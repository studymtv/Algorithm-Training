{
 "cells": [
  {
   "cell_type": "markdown",
   "metadata": {},
   "source": [
    "# 동적 계획법의 문제 풀이 순서\n",
    "1. 부분 문제를 정의 : 무슨 값을 구할지를 정의\n",
    "2. 점화식을 구한다 : 그 값을 어떻게 구할지 식을 세움\n",
    "3. 문제를 해결한다 : 값을 직접 구하는 코드 작성\n",
    "\n",
    "- 동적계획법 -> 연속부분최대합 / 최장증가 부분 수열 / 최대 공통 부분 수열 이건 꼭!!!"
   ]
  },
  {
   "cell_type": "markdown",
   "metadata": {},
   "source": [
    "## 연속 부분 최대합\n",
    "- 완전탐색법 : O(n²)\n",
    "- 분할정복법 : O(n logn)"
   ]
  },
  {
   "cell_type": "markdown",
   "metadata": {},
   "source": [
    "1 2 -4 5 3 -2 9 10\n",
    "\n",
    "- 5를 맨 오른쪽에 두는 연속 부분 최대합만 생각해보자\n",
    "- 5 : 5\n",
    "- -4 5 : 1\n",
    "- 2 -4 5 : 3\n",
    "- 1 2 -4 5 : 4\n",
    "\n",
    "- 각각의 원소가 최우측일때의 최대합 출력\n",
    "\n",
    "T = 1 3 -1 5 8 6 15 25\n",
    "\n",
    "- 어떤 구간을 고려해도 다 가지고왔음!이라고 이야기할 수 있음!! => 모든 구간을 고려한 것\n",
    "- 답은 MAX(T) = 25 ( MAX )\n",
    "- 하나 더 알 수 있는 것은 그 연속 부분이 어디에 있는가?\n",
    "- T를 채우는데 시간 복잡도는? \n",
    "- 1개 구할 때 얼마나 걸리는가 1 - 1, 2 - 2, 3 -3 , i번째 있으면, i번..!\n",
    "- (1+2+..+n) = n(n+1)/2 => O(n²)     "
   ]
  },
  {
   "cell_type": "markdown",
   "metadata": {},
   "source": [
    "5\n",
    "\n",
    "-4 5\n",
    "\n",
    "2 -4 5\n",
    "\n",
    "1 2 -4 5\n",
    "\n",
    "5를 제외한 친구들만 보면, -4를 맨끝으로 하는 최대합을 알면 다 알아볼 필요가 없다\n",
    "\n",
    "5\n",
    "\n",
    "-1 5\n",
    "\n",
    "- 앞의 꺼의 최대값을 알면 그 다음꺼도 알 수 있음"
   ]
  },
  {
   "cell_type": "markdown",
   "metadata": {},
   "source": [
    "1. 부분 문제를 정의한다\n",
    "    - T(i) = i번째 숫자를 오른쪽 끝으로 하는 연속 부분 최대합\n",
    "2. 점화식을 구한다\n",
    "    - i-1를 오른쪽 끝으로 하는 연속부분 최대값 => T(i-1)\n",
    "    - T(i-1)가 있는 경우랑 없는 경우만 비교하면 됨\n",
    "    - T(i) = max( T(i-1)+ Data(i), Data(i))"
   ]
  },
  {
   "cell_type": "code",
   "execution_count": 17,
   "metadata": {},
   "outputs": [
    {
     "name": "stdout",
     "output_type": "stream",
     "text": [
      "1 3 5\n",
      "9\n"
     ]
    }
   ],
   "source": [
    "import sys\n",
    "import numpy as np\n",
    "\n",
    "def getSubsum(data) :\n",
    "    '''\n",
    "    n개의 숫자가 list로 주어질 때, 그 연속 부분 최대합을 반환하는 함수를 작성하세요.\n",
    "    '''\n",
    "    '''\n",
    "    T[i] = i번째 숫자를 오른쪽 끝으로 하는 연속 부분 최대합\n",
    "    T[i] = MAX(T[i-1] + data[i], data[i])\n",
    "    '''\n",
    "    n = len(data)\n",
    "#     Table = [0 for i in range(n)]\n",
    "    Table = np.ones(n) # Numpy 객체 사용\n",
    "    Table[0] = data[0]\n",
    "    \n",
    "    for i in range(1, n):\n",
    "        Table[i] = max(Table[i-1]+data[i], data[i])\n",
    "        \n",
    "    return int(max(Table))\n",
    "        \n",
    "\n",
    "def main():\n",
    "    '''\n",
    "    이 부분은 수정하지 마세요.\n",
    "    '''\n",
    "\n",
    "    data = [int(x) for x in input().split()]\n",
    "\n",
    "    print(getSubsum(data))\n",
    "\n",
    "if __name__ == \"__main__\":\n",
    "    main()\n"
   ]
  },
  {
   "cell_type": "markdown",
   "metadata": {},
   "source": [
    "# 문제 1. 줄 세우기\n",
    "- 맨 우측에 P / Q를 인지\n",
    "1. 부분 문제를 정의한다\n",
    "    - T(i) = i명의 학생을 일렬로 세우는 경우의 수 / T(5)\n",
    "2. 점화식을 구한다\n",
    "    - Q -> T(i-1)\n",
    "    - P -> T(i-2)\n",
    "    - T(i) = T(i-1) + T(i-2)"
   ]
  },
  {
   "cell_type": "markdown",
   "metadata": {},
   "source": [
    "# 문제 2. 계단 오르기\n",
    "- 도착은 무조건 밟아야 함..! 도착 전엔 누구를 밟아야 하는가?\n",
    "- 맨 끝에 하나만 밟는가, 맨 끝에 두개를 밟는가\n",
    "\n",
    "- T(i) = i번째를 마지막으로 밟는 경우의 수\n",
    "- T(i) = T[i-2] + data[i] + T[i-3] + data[i-1] + data[i]"
   ]
  },
  {
   "cell_type": "markdown",
   "metadata": {},
   "source": [
    "# 문제 3. 짜장, 짬뽕, 볶음밥\n",
    "- 각 날짜에 대하여 음식의 선호도가 주어질 때 얻을 수 있는 만족값의 최대합?\n",
    "- 마지막 날에 무엇을 먹었느냐로 나눌것!\n",
    "- T(i, 0) = i번째 날까지 모든 음식을 먹으며, i번째에는 짜장을 먹을 때, 얻을 수 있는 만족도의 최댓값\n",
    "- T(i, 0) : i번째에 짜장 먹을때 만족도 최댓값 -> MAX(T(i-1, 1) T(i-1, 2)) + data(i,0)\n",
    "- T(i, 1) : i번째에 짬뽕 먹을때 만족도 최댓값\n",
    "- T(i, 2) : i번째에 볶음밥 먹을때 만족도 최댓값\n",
    "\n"
   ]
  },
  {
   "cell_type": "markdown",
   "metadata": {},
   "source": [
    "# 예제 1. 최장 증가 부분 수열 ( Longest Increasing Subsequence ; LIS)\n",
    "- 최장 증가 부분 수열의 길이를 구하라\n",
    "- 부분 수열 / 증가 수열\n",
    "- 증가 부분 수열 : 증가하는 부분 수열\n",
    "\n",
    "- 모든 증가 부분 수열을 구해보자\n",
    "- 1 4 2 3 5\n",
    "    - 5를 포함하는 경우 -> 3을 오른쪽 끝으로 하는 최장 증가 부분 수열 +1 / 2를 끝으로 하는 LIS + 1 / 4...1....\n",
    "    - 5를 포함하지 않는 경우 : (1 4 2 3 의 최장 증가 부분 수열)\n",
    "    \n",
    "- T(i) = i번째 숫자를 끝으로 하는 최장 증가 부분 수열의 길이\n",
    "- T(i) = max(T(j)+1) if Data(j) < Data(i)"
   ]
  },
  {
   "cell_type": "code",
   "execution_count": null,
   "metadata": {
    "collapsed": true
   },
   "outputs": [],
   "source": []
  }
 ],
 "metadata": {
  "kernelspec": {
   "display_name": "Python 3",
   "language": "python",
   "name": "python3"
  },
  "language_info": {
   "codemirror_mode": {
    "name": "ipython",
    "version": 3
   },
   "file_extension": ".py",
   "mimetype": "text/x-python",
   "name": "python",
   "nbconvert_exporter": "python",
   "pygments_lexer": "ipython3",
   "version": "3.6.1"
  },
  "latex_envs": {
   "LaTeX_envs_menu_present": true,
   "autocomplete": true,
   "bibliofile": "biblio.bib",
   "cite_by": "apalike",
   "current_citInitial": 1,
   "eqLabelWithNumbers": true,
   "eqNumInitial": 1,
   "hotkeys": {
    "equation": "Ctrl-E",
    "itemize": "Ctrl-I"
   },
   "labels_anchors": false,
   "latex_user_defs": false,
   "report_style_numbering": false,
   "user_envs_cfg": false
  }
 },
 "nbformat": 4,
 "nbformat_minor": 2
}
