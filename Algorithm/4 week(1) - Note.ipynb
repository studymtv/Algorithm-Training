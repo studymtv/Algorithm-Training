{
 "cells": [
  {
   "cell_type": "markdown",
   "metadata": {},
   "source": [
    "# 4. 탐욕적 기법"
   ]
  },
  {
   "cell_type": "markdown",
   "metadata": {},
   "source": [
    "- 순간의 최적의 선택이 궁극적으로 최적의 선택이다!\n",
    "- 의미 : 단순한 방법도 문제 풀이에는 충분하다..!!\n",
    "- 그 후엔 왜 되는것인가?를 증명하는 것이 가장 중요함!\n",
    "- 수학적 문제 해결력을 요구 -> 코딩과는 별개의 능력\n",
    "\n",
    "- ex) gradiend descend\n",
    "\n",
    "- 탐욕적 기법으로 잘되는 것도 있고, 아닌 것도 있음!\n"
   ]
  },
  {
   "cell_type": "markdown",
   "metadata": {},
   "source": [
    "## 예제 1. 거스름돈\n",
    "- 1원, 5원, 10원, 50원, 100원짜리가 있을 때, 돌려주어야 하는 동전의 최소 개수를 구하라"
   ]
  },
  {
   "cell_type": "code",
   "execution_count": null,
   "metadata": {
    "collapsed": true
   },
   "outputs": [],
   "source": [
    "# 1. 완전 탐색\n",
    "# 2. 큰 동전부터 사용! (탐욕적)"
   ]
  },
  {
   "cell_type": "code",
   "execution_count": null,
   "metadata": {
    "collapsed": true
   },
   "outputs": [],
   "source": [
    "# 될 것 같은데 제대로 증명하기가 정말 어렵다.\n",
    "# 1 7 9 11 100원 이라면 증명하기 정말 어렵다\n",
    "# 본 문제는 100을 안쓰면 무조건 손해 ( 1,5,10,50이 100의 약수였음 )\n",
    "# 하지만 1 7 9 11 100이면"
   ]
  },
  {
   "cell_type": "code",
   "execution_count": 3,
   "metadata": {},
   "outputs": [
    {
     "name": "stdout",
     "output_type": "stream",
     "text": [
      "103\n",
      "4\n"
     ]
    }
   ],
   "source": [
    "def coinChange(n):\n",
    "    '''\n",
    "    n원을 돌려주기 위해 필요한 동전 개수의 최소값을 반환하는 함수\n",
    "    '''\n",
    "    coins = [100, 50, 10, 5, 1]\n",
    "    result = 0\n",
    "    \n",
    "    for c in coins:\n",
    "        result += n//c\n",
    "        n -= c * (n//c)\n",
    "        \n",
    "    return result\n",
    "        \n",
    "def main():\n",
    "    n = int(input())\n",
    "\n",
    "    print(coinChange(n))\n",
    "\n",
    "if __name__ == \"__main__\":\n",
    "    main()\n"
   ]
  },
  {
   "cell_type": "code",
   "execution_count": 4,
   "metadata": {
    "collapsed": true
   },
   "outputs": [],
   "source": [
    "# 탐욕적 기법은 보통 코드가 짧음.\n",
    "# 그러나 다른 사람의 코드를 보면 이해하기 어려움 ( 그 논리를 알고있지 못하기에 )"
   ]
  },
  {
   "cell_type": "markdown",
   "metadata": {},
   "source": [
    "## 예제2. 기울기가 가장 큰 두 점 찾기"
   ]
  },
  {
   "cell_type": "code",
   "execution_count": 5,
   "metadata": {
    "collapsed": true
   },
   "outputs": [],
   "source": [
    "# 완전 탐색으로 했었음 ( 그 당시엔 n이 100 )\n",
    "# 지금은 1<= n <= 100,000"
   ]
  },
  {
   "cell_type": "code",
   "execution_count": 6,
   "metadata": {
    "collapsed": true
   },
   "outputs": [],
   "source": [
    "# x축으로 인접한 두 점만 고려해도 충분하다! 라고 가정 (이들 중에 답이 있다!!)"
   ]
  },
  {
   "cell_type": "code",
   "execution_count": 7,
   "metadata": {
    "collapsed": true
   },
   "outputs": [],
   "source": [
    "# 증명해보기. 귀류법을 써보자 (만약 아니라면!)\n",
    "# 중간에 점이 있다면 최대값이 아니다 => 떨어진 것은 애초에 볼 필요가 없다 => 정렬하면 끝"
   ]
  },
  {
   "cell_type": "code",
   "execution_count": 8,
   "metadata": {},
   "outputs": [
    {
     "name": "stdout",
     "output_type": "stream",
     "text": [
      "4\n",
      "0 3\n",
      "1 1\n",
      "2 2\n",
      "4 1\n",
      "2.000\n"
     ]
    }
   ],
   "source": [
    "def getSlope(a,b):\n",
    "    '''\n",
    "    점 a와 점 b의 기울기의 절대값을 구하는 함수\n",
    "    '''\n",
    "    \n",
    "    return abs((b[1] - a[1])/(b[0]-a[0]))\n",
    "    \n",
    "    \n",
    "def maxSlope(points):\n",
    "    points.sort()\n",
    "    result = 0\n",
    "    # [a, b, c, d]일 경우 3번 ab, ac, ad!\n",
    "    \n",
    "    for i in range(len(points)-1):\n",
    "        result = max(result, getSlope(points[i], points[i+1]))\n",
    "        \n",
    "    return result\n",
    "\n",
    "def main():\n",
    "\n",
    "    n = int(input())\n",
    "    points = []\n",
    "\n",
    "    for i in range(n) :\n",
    "        line = [int(x) for x in input().split()]\n",
    "        points.append( (line[0], line[1]) )\n",
    "\n",
    "    print(\"%.3lf\" % maxSlope(points))\n",
    "\n",
    "if __name__ == \"__main__\":\n",
    "    main()\n",
    "\n",
    "        "
   ]
  },
  {
   "cell_type": "code",
   "execution_count": null,
   "metadata": {
    "collapsed": true
   },
   "outputs": [],
   "source": []
  }
 ],
 "metadata": {
  "kernelspec": {
   "display_name": "Python 3",
   "language": "python",
   "name": "python3"
  },
  "language_info": {
   "codemirror_mode": {
    "name": "ipython",
    "version": 3
   },
   "file_extension": ".py",
   "mimetype": "text/x-python",
   "name": "python",
   "nbconvert_exporter": "python",
   "pygments_lexer": "ipython3",
   "version": "3.6.1"
  },
  "latex_envs": {
   "LaTeX_envs_menu_present": true,
   "autocomplete": true,
   "bibliofile": "biblio.bib",
   "cite_by": "apalike",
   "current_citInitial": 1,
   "eqLabelWithNumbers": true,
   "eqNumInitial": 1,
   "hotkeys": {
    "equation": "Ctrl-E",
    "itemize": "Ctrl-I"
   },
   "labels_anchors": false,
   "latex_user_defs": false,
   "report_style_numbering": false,
   "user_envs_cfg": false
  }
 },
 "nbformat": 4,
 "nbformat_minor": 2
}
