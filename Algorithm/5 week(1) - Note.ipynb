{
 "cells": [
  {
   "cell_type": "markdown",
   "metadata": {},
   "source": [
    "# 동적 계획법 ( Dynamic Programming )\n",
    "- 알고리즘 : 문제를 해결하는 방법\n",
    "- 동적계획법도 알고리즘 중 하나\n",
    "- 부분 문제를 해결한 결과를 이용하여 전체 문제를 해결.\n",
    "- cf) 분할 정복법 : 큰 문제를 작은 문제로 나누고, 이것을 합쳐서 한 문제를 푸는 것\n",
    "- 분할 정복법과 동적 계획법은 근본적으로 동일함\n",
    "- \"나\"를 해결함으로써 \"나\"를 해결!!!!! (앞의 나가 좀 작은것이고, 뒤의 나가 큰 것) => **재귀호출!!!!!!!!!**"
   ]
  },
  {
   "cell_type": "code",
   "execution_count": 1,
   "metadata": {
    "collapsed": true
   },
   "outputs": [],
   "source": [
    "# 퀵 정렬 ( Quick Sort ) : 재귀호출! 분할정복법!\n",
    "def quickSort(data):\n",
    "    if len(data) <= 1:\n",
    "        return data\n",
    "    \n",
    "    pivot = data[0]\n",
    "    left = getSmallNumbers(data, pivot)\n",
    "    right = getLargeNumbers(data, pivot)\n",
    "    \n",
    "    return quickSort(left)+ [pivot] + quickSort(right)"
   ]
  },
  {
   "cell_type": "code",
   "execution_count": 2,
   "metadata": {
    "collapsed": true
   },
   "outputs": [],
   "source": [
    "# 피보나치 수 구하기\n",
    "# Fn = Fn-1+ Fn-2"
   ]
  },
  {
   "cell_type": "code",
   "execution_count": 5,
   "metadata": {
    "collapsed": true
   },
   "outputs": [],
   "source": [
    "def getFibo(n):\n",
    "    if n == 0 or n == 1 :\n",
    "        return 1\n",
    "    else :\n",
    "        return getFibo(n-1) + getFibo(n-2)"
   ]
  },
  {
   "cell_type": "code",
   "execution_count": 6,
   "metadata": {},
   "outputs": [
    {
     "data": {
      "text/plain": [
       "5"
      ]
     },
     "execution_count": 6,
     "metadata": {},
     "output_type": "execute_result"
    }
   ],
   "source": [
    "getFibo(4)"
   ]
  },
  {
   "cell_type": "code",
   "execution_count": 7,
   "metadata": {},
   "outputs": [
    {
     "data": {
      "text/plain": [
       "3"
      ]
     },
     "execution_count": 7,
     "metadata": {},
     "output_type": "execute_result"
    }
   ],
   "source": [
    "getFibo(3)"
   ]
  },
  {
   "cell_type": "code",
   "execution_count": 8,
   "metadata": {},
   "outputs": [
    {
     "data": {
      "text/plain": [
       "2"
      ]
     },
     "execution_count": 8,
     "metadata": {},
     "output_type": "execute_result"
    }
   ],
   "source": [
    "getFibo(2)"
   ]
  },
  {
   "cell_type": "code",
   "execution_count": 9,
   "metadata": {},
   "outputs": [
    {
     "data": {
      "text/plain": [
       "1"
      ]
     },
     "execution_count": 9,
     "metadata": {},
     "output_type": "execute_result"
    }
   ],
   "source": [
    "getFibo(1)"
   ]
  },
  {
   "cell_type": "code",
   "execution_count": 10,
   "metadata": {},
   "outputs": [
    {
     "data": {
      "text/plain": [
       "1"
      ]
     },
     "execution_count": 10,
     "metadata": {},
     "output_type": "execute_result"
    }
   ],
   "source": [
    "getFibo(0)"
   ]
  },
  {
   "cell_type": "code",
   "execution_count": 12,
   "metadata": {
    "collapsed": true
   },
   "outputs": [],
   "source": [
    "# 단점 : 피보나치를 함수로 만들면, 같은 것을 2번 계산함!\n",
    "# 피보나치에선 중복해서 계산하는게 생기고, 퀵소트에선 안생기는데 왜 그럴까?"
   ]
  },
  {
   "cell_type": "markdown",
   "metadata": {},
   "source": [
    "### 퀵소트는 왼쪽 오른쪽이 안겹치고 ( 독립적 ) 피보나치는 독립적이지 않고 종속적"
   ]
  },
  {
   "cell_type": "markdown",
   "metadata": {},
   "source": [
    "피보나치 수 구하기\n",
    "- 분할정복법을 이용한 풀이가 아님\n",
    "- => 문제를 독립적으로 나누지 않았기 때문!!\n",
    "\n"
   ]
  },
  {
   "cell_type": "markdown",
   "metadata": {},
   "source": [
    "분할정복법과 동적계획법은 '누구를' 써먹냐가 다름\n",
    "\n",
    "분할정복법은 독립적으로 짜르고, 동적계획법은 종속적!"
   ]
  },
  {
   "cell_type": "markdown",
   "metadata": {},
   "source": [
    "## 동적 계획법\n",
    "- \"나\"보다 작은 모든 풀이를 먼저 기억하자"
   ]
  },
  {
   "cell_type": "markdown",
   "metadata": {},
   "source": [
    "# 동적 계획법의 문제 풀이 순서\n",
    "1. 부분 문제를 정의한다 : 무슨 값을 구할지를 정의\n",
    "2. 점화식을 구한다 : 그 값을 어떻게 구할지에 대한 식을 세운다\n",
    "3. 문제를 해결한다 : 값을 직접 구하는 코드를 작성한다\n"
   ]
  },
  {
   "cell_type": "code",
   "execution_count": 13,
   "metadata": {
    "collapsed": true
   },
   "outputs": [],
   "source": [
    "# 피보나치를 동적 계획법으로 풀기\n",
    "# 1. 부분 문제를 정의 => F(i) = Fi의 값\n",
    "# 2. 점화식 : F(i) = F(i-1) + F(i-2)\n",
    "# 3. 값을 구한다 : 리스트에 왼쪽에서부터 값을 채워야 함!"
   ]
  },
  {
   "cell_type": "markdown",
   "metadata": {},
   "source": [
    "# 예제1. 블럭 채우기\n",
    "- 2 x N의 상자를 2 x 1의 블럭으로 채우는 경우의 수는?"
   ]
  },
  {
   "cell_type": "code",
   "execution_count": 14,
   "metadata": {
    "collapsed": true
   },
   "outputs": [],
   "source": [
    "# 작은 상자를 채우는 경우의 수를 알면, 큰 상자를 채우는 경우의 수도 알 수 있다!\n",
    "# 처음에 시도해봐야 하는 것은 무식하게 다 해보자!"
   ]
  },
  {
   "cell_type": "code",
   "execution_count": 15,
   "metadata": {
    "collapsed": true
   },
   "outputs": [],
   "source": [
    "# 전체 경우를 어떻게 분류할 것인지를 바라보는 눈-!"
   ]
  },
  {
   "cell_type": "code",
   "execution_count": 17,
   "metadata": {
    "collapsed": true
   },
   "outputs": [],
   "source": [
    "# 맨 우측에 |인 경우와 ㅡ인 경우 2개로 나눌 수 있음\n",
    "# |인 경우 2 x 3의 블럭을 채우는 경우의 수 : 3\n",
    "# ㅡ 2 x 2의 블럭을 채우는 경우의 수 : 2"
   ]
  },
  {
   "cell_type": "code",
   "execution_count": 18,
   "metadata": {
    "collapsed": true
   },
   "outputs": [],
   "source": [
    "# 1. 부분 문제를 정의한다 => T(i) = 2 x i의 상자를 채우는 경우의 수\n",
    "# 2. 점화식을 구한다 => | = T(i-1) / ㅡ = T(i-2)\n",
    "# T(i) = T(i-1) + T(i-2)\n",
    "# i=0, x / i=1, 1 / i=2, 2 / i=3, 3 ..."
   ]
  },
  {
   "cell_type": "code",
   "execution_count": 22,
   "metadata": {},
   "outputs": [
    {
     "name": "stdout",
     "output_type": "stream",
     "text": [
      "4\n",
      "5\n"
     ]
    }
   ],
   "source": [
    "def fillBox(n) :\n",
    "    '''\n",
    "    2 x n 의 상자를 2 x 1 의 블럭으로 채우는 경우의 수를 1,000,000,007로 나눈 나머지를 반환하는 함수를 작성하세요.\n",
    "    '''\n",
    "    '''\n",
    "    T(i) : 2 x i의 상자를 2 x 1의 블럭으로 채우는 경우의 수\n",
    "    T(i) : T(i-1) + T(i-2)\n",
    "    '''\n",
    "    \n",
    "    if n == 1:\n",
    "        return 1\n",
    "    elif n == 2:\n",
    "        return 2\n",
    "        \n",
    "    Table = [ 0 for i in range(n+1)]\n",
    "    \n",
    "    Table[1] = 1\n",
    "    Table[2] = 2\n",
    "    \n",
    "    for i in range(3, n+1):\n",
    "        Table[i] = (Table[i-1] + Table[i-2]) % 1000000007\n",
    "    \n",
    "    return Table[n]\n",
    "\n",
    "def main():\n",
    "\n",
    "    n = int(input())\n",
    "\n",
    "    print(fillBox(n))\n",
    "\n",
    "if __name__ == \"__main__\":\n",
    "    main()\n"
   ]
  },
  {
   "cell_type": "code",
   "execution_count": 21,
   "metadata": {
    "collapsed": true
   },
   "outputs": [],
   "source": [
    "# 분할정복법은 재귀를 사용. 함수를 호출\n",
    "# 동적계획법은 재귀를 사용하진 않음. 함수를 호출한 것은 아님! 리스트에 저장한 것!!!"
   ]
  },
  {
   "cell_type": "markdown",
   "metadata": {},
   "source": [
    "## 문제가 \"재귀적으로 해결되는지\"를 볼 줄 알아야 함\n",
    "- 규칙 찾는 것으로 보일 때도 있고, 실제로 틀린 말도 아님!\n",
    "\n",
    "### 무조건 많은 예제를 풀어야 한다-! 재귀호출, 동적계획법 기초 실력 향상은 양으로!"
   ]
  },
  {
   "cell_type": "markdown",
   "metadata": {},
   "source": [
    "# 예제 2. 숫자 만들기 \n",
    "- 1 ~ M까지의 숫자를 더하여 N을 만드는 경우의 수는?"
   ]
  },
  {
   "cell_type": "code",
   "execution_count": 23,
   "metadata": {
    "collapsed": true
   },
   "outputs": [],
   "source": [
    "# 끝 숫자가 1인 경우, 2인 경우, 3인 경우...M인 경우로 나눔!!"
   ]
  },
  {
   "cell_type": "code",
   "execution_count": 24,
   "metadata": {
    "collapsed": true
   },
   "outputs": [],
   "source": [
    "# 1. 부분 문제를 정의 : T(i) = 1 ~ M의 수를 이용하여 i를 만드는 경우의 수\n",
    "# 2. 점화식 : T(i) = T(i-1) + T(i-2) + .. T(i-M)"
   ]
  },
  {
   "cell_type": "code",
   "execution_count": 25,
   "metadata": {},
   "outputs": [
    {
     "name": "stdout",
     "output_type": "stream",
     "text": [
      "5 3\n",
      "13\n"
     ]
    }
   ],
   "source": [
    "def makeNumber(n, m) :\n",
    "    '''\n",
    "    1 ~ m 까지의 수를 더하여 n을 만드는 경우의 수를 1,000,000,007로 나눈 나머지를 반환하는 함수를 작성하세요.\n",
    "    '''\n",
    "    '''\n",
    "    T(i) : 1~m까지의 수를 더하여 i를 만드는 경우의 수\n",
    "    T(i) : T(i-1) + T(i-2) + ... + T(i-m)\n",
    "    '''\n",
    "    \n",
    "    LIMIT_NUMBER = 1000000007\n",
    "    Table = [0 for i in range(n+1)]\n",
    "    \n",
    "    for i in range(1, m+1):\n",
    "        Table[i] = (sum(Table[1:i]) + 1) % LIMIT_NUMBER\n",
    "        \n",
    "    for i in range(m+1, n+1):\n",
    "        Table[i] = (sum(Table[i-m:i])) % LIMIT_NUMBER\n",
    "    \n",
    "    return Table[n];\n",
    "\n",
    "def main():\n",
    "\n",
    "    firstLine = [int(x) for x in input().split()]\n",
    "\n",
    "    n = firstLine[0]\n",
    "    m = firstLine[1]\n",
    "\n",
    "    print(makeNumber(n, m))\n",
    "\n",
    "if __name__ == \"__main__\":\n",
    "    main()\n"
   ]
  },
  {
   "cell_type": "code",
   "execution_count": null,
   "metadata": {
    "collapsed": true
   },
   "outputs": [],
   "source": []
  }
 ],
 "metadata": {
  "kernelspec": {
   "display_name": "Python 3",
   "language": "python",
   "name": "python3"
  },
  "language_info": {
   "codemirror_mode": {
    "name": "ipython",
    "version": 3
   },
   "file_extension": ".py",
   "mimetype": "text/x-python",
   "name": "python",
   "nbconvert_exporter": "python",
   "pygments_lexer": "ipython3",
   "version": "3.6.1"
  },
  "latex_envs": {
   "LaTeX_envs_menu_present": true,
   "autocomplete": true,
   "bibliofile": "biblio.bib",
   "cite_by": "apalike",
   "current_citInitial": 1,
   "eqLabelWithNumbers": true,
   "eqNumInitial": 1,
   "hotkeys": {
    "equation": "Ctrl-E",
    "itemize": "Ctrl-I"
   },
   "labels_anchors": false,
   "latex_user_defs": false,
   "report_style_numbering": false,
   "user_envs_cfg": false
  }
 },
 "nbformat": 4,
 "nbformat_minor": 2
}
