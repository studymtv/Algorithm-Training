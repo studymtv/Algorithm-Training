{
 "cells": [
  {
   "cell_type": "markdown",
   "metadata": {
    "collapsed": true
   },
   "source": [
    "# 1주차\n",
    "\n",
    "#### 계산기로써의 컴퓨터 : 컴퓨터의 초기는 계산기로 시작함. 사람 대신 계산해주는 친구-! \n",
    "\n",
    "### 컴퓨터 \n",
    "- 입력장치 / 출력장치 ( 교류하기 위함 )\n",
    "- 기억장치 ( RAM / HDD ) ( 기억 )\n",
    "- 연산장치 ( CPU ) ( 연산 )\n",
    "\n",
    "### 왜 자료구조와 알고리즘을 배워야하니?\n",
    "- 컴퓨터와 소통할 수 있어야함\n",
    "\n",
    "### 컴퓨터 공학의 기본 커리큘럼\n",
    "1. 프로그래밍 언어\n",
    "2. 자료구조 : 스택, 큐, 트리 => 어떻게 저장하는지 배우자! 특정 목적이 있을 때 자료를 어떻게 저장해야 빨리 받을 수 있는지 알 수 있음.. FIFO, LIFO\n",
    "3. 알고리즘 : 어떻게 연산하는지-!!! / 특정 목적이 있을 때 저장된 자료를 토대로 어떻게 의미있는 결과를 낼 것인가? 저장과 연산은 다르다!! 저장된 지도(자료)에서 어떻게 부산에서 서울로 갈 것인가"
   ]
  },
  {
   "cell_type": "markdown",
   "metadata": {},
   "source": [
    "1주차 - 재귀호출\n",
    "\n",
    "2주차 - 문제 해결의 절차, 완전탐색, 시간복잡도\n",
    "\n",
    "3주차 - 분할정복법 : 재귀호출을 모르면 분할정복법을 알 수 없다!! 컴공에서 가장 근본이고, 기초적임\n",
    "\n",
    "4주차 - 탐욕적 기법 : 매 순간의 최선의 선택이 궁극적으로 최선의 선택이다\n",
    "\n",
    "# 알고리즘 : 문제를 해결하는 방법\n",
    "- 컴퓨터를 이용해 풀 수 있는 문제를 해결할 것임"
   ]
  },
  {
   "cell_type": "markdown",
   "metadata": {},
   "source": [
    "## 예제\n",
    "1. 숫자 하나를 입력\n",
    "2. 지금까지 받은 숫자를 정렬\n",
    "3. k번째로 작은 숫자 출력"
   ]
  },
  {
   "cell_type": "code",
   "execution_count": 6,
   "metadata": {},
   "outputs": [
    {
     "name": "stdout",
     "output_type": "stream",
     "text": [
      "1 2 3 4 5\n",
      "2\n",
      "-1\n"
     ]
    }
   ],
   "source": [
    "def findKth(myInput, k) :\n",
    "    '''\n",
    "    myInput = [1,2,4,5,5,1,2,9]\n",
    "    k\n",
    "    매 순간마다 k번째로 작은 원소를 리스트로 반환합니다.\n",
    "    '''\n",
    "    \n",
    "    \n",
    "    data = []\n",
    "    result = []\n",
    "    \n",
    "    for i in myInput:\n",
    "        data.append(i)\n",
    "        \n",
    "        data.sort()\n",
    "        \n",
    "        if len(data) < k:\n",
    "            result.append(-1)\n",
    "        else:\n",
    "            result.append(data[k-1])\n",
    "\n",
    "    return result\n",
    "\n",
    "def main():\n",
    "    '''\n",
    "    테스트를 하고싶으면, 아래 부분을 수정합니다.\n",
    "    '''\n",
    "\n",
    "    firstLine = [int(x) for x in input().split()]\n",
    "    myInput = [int(x) for x in input().split()]\n",
    "\n",
    "    print(*findKth(myInput, firstLine[1]))\n",
    "if __name__ == \"__main__\":\n",
    "    main()\n"
   ]
  },
  {
   "cell_type": "markdown",
   "metadata": {},
   "source": [
    "## 재귀호출\n",
    "- Pointer : C/ C++만 존재. python - call by value\n",
    "- 이론을 알긴 아는데, 어디서 사용해야되나? 이런 것을 묻는 사람들이 많음 -> 재귀 호출을 제대로 배우지 않은 것..!!!!\n",
    "- 함수가 자기 자신을 호출하는 것!\n",
    "- Factorial을 배움 -> 피보나치 수열\n",
    "- 의미와 문제해결"
   ]
  },
  {
   "cell_type": "code",
   "execution_count": 7,
   "metadata": {
    "collapsed": true
   },
   "outputs": [],
   "source": [
    "def Factorial(n):\n",
    "    if n == 0:\n",
    "        return 1\n",
    "    else:\n",
    "        return n * Factorial(n-1)"
   ]
  },
  {
   "cell_type": "code",
   "execution_count": 8,
   "metadata": {},
   "outputs": [
    {
     "data": {
      "text/plain": [
       "120"
      ]
     },
     "execution_count": 8,
     "metadata": {},
     "output_type": "execute_result"
    }
   ],
   "source": [
    "Factorial(5)"
   ]
  },
  {
   "cell_type": "markdown",
   "metadata": {},
   "source": [
    "# 수학적 귀납법 = 재귀적 증명법\n",
    "#### 수학적 귀납법 : 명제 P(n)을 다음과 같이 증명하는 방법.\n",
    "- n = 1일때 성립함을 보인다\n",
    "- p(k)가 성립한다고 가정할 때, P(k+1)이 성립함을 보인다\n",
    "- 따라서 모든 자연수 n에 대하여 P(n)이 성립한다\n",
    "\n",
    "\n",
    "ex) 모든 자연수 n에 대하여 n! <= n^n임을 증명하시오\n",
    "\n",
    "1! <= 1^1\n",
    "\n",
    "k! <= k^k\n",
    "\n",
    "k! x (k+1) <= k^k x (k+1)\n",
    "\n",
    "(k+1)! <= (k+1)^k+1\n",
    "\n",
    "많은 경우에 재귀가 더 코드가 간결!, 재귀가 더 느리지만 재귀를 써야됨\n",
    "\n",
    "- 파이썬은 기본적으로 재귀함수는 default 1000\n",
    "- 반복을 해야할 때와 재귀를 해야할 때가 다름\n",
    "- 4->3->2->1 이런 식으로 증명하는 방법이 같은 논리를 따름\n",
    "- 증명하는 과정 중에 또 내가 들어가있음. 나 안에 내가 있음\n",
    "- 증명하는 논리는 1개임 k->k+1된다. 내 증명 방법 안에 또 증명 방법이 존재\n",
    "\n",
    "- 의미를 아는 것과 어떤 동작으로 작동하는 것을 아는 것은 다른 이야기!\n",
    "- 수학적 귀납법 : 재귀적으로 증명. 명제 1개를 증명하기 위해 똑같은 증명을 또 씀!"
   ]
  },
  {
   "cell_type": "markdown",
   "metadata": {},
   "source": [
    "- 수학적 귀납법을 거꾸로 보기\n",
    "\n",
    "\n",
    "# 재귀호출 = 재귀적 계산법!\n",
    "- 어떤 값을 재귀적으로 계산하는 방법\n",
    "\n",
    "\n",
    "- 수학적 귀납법 = 재귀적 증명법\n",
    "- 재귀호출 = 재귀적 계산법\n",
    "\n",
    "\n",
    "- 귀납법은 증명하는 친구, 재귀호출은 계산하는 친구"
   ]
  },
  {
   "cell_type": "markdown",
   "metadata": {},
   "source": [
    "factorial(n) :n!을 반환하는 함수\n",
    "\n",
    "factorial(n) =  factorial(n-1)*n\n",
    "\n",
    "n=1일떄 factorial(n)이 제대로 작동"
   ]
  },
  {
   "cell_type": "markdown",
   "metadata": {},
   "source": [
    "설명법\n",
    "- 제일 기본적인 경우. 0! = 1이라는 것이 정의야\n",
    "- 0이 아닌 경우 n!을 구하려면 n(n-1)!로 구할 수 있어~\n",
    "- factorial(n-1)이 (n-1)!을 잘 나타내줌! 이라고 마침표를 찍자. 일일히 따라가볼 필요가 없어요\n",
    "\n",
    "- 코드는 한줄한줄 실행하는 것이 아닌, 의미 단위로 작성되어 있음!\n",
    "- 좋은 코드는 한줄한줄이 아닌, 의미 단위로 적혀있는 코드! \n",
    "\n",
    "- 공부할 때는 factorial을 while로 짜면 안됨. \n",
    "- factorial의 정의는 n! = n(n-1)!임!! \n",
    "- n! = n(n-1)(n-2)... 1 이건 팩토리얼의 계산 방법이지 팩토리얼의 정의가 아님! 이게 맞다면 0!을 정의할 이유가 없음. 0을 들이댈 이유가 없지욧\n",
    "\n",
    "- 함수형 프로그래밍은 짜는게 어렵지만 정말 에러가 잘 안남. 의미단위로 잘 프로그래밍 되어있음..!"
   ]
  },
  {
   "cell_type": "markdown",
   "metadata": {},
   "source": [
    "## 퀵정렬 : 재귀호출을 이용한 대표적인 정렬\n",
    "- 4가 나오면 왼쪽엔 작거나 작은 친구를 넣고, 우측엔 큰 친구를 둠 -> 왼쪽을 퀵소트! 우측을 퀵소트!\n",
    "- 퀵소트가 제대로 되고있는지 볼 필요가 없음! 부르기만 하면 됨! 이걸 받아들이시오."
   ]
  },
  {
   "cell_type": "code",
   "execution_count": 10,
   "metadata": {
    "collapsed": true
   },
   "outputs": [],
   "source": [
    "def quickSort(data):\n",
    "    if len(data) <= 1:\n",
    "        return data\n",
    "    \n",
    "    pivot = data[0]\n",
    "    \n",
    "    left = getSmallNumbers(data[1:], pivot)\n",
    "    right = getLargeNumbers(data[1:], pivot)\n",
    "    \n",
    "    return quickSort(left) + [pivot] + quickSort(right)"
   ]
  },
  {
   "cell_type": "code",
   "execution_count": 12,
   "metadata": {
    "collapsed": true
   },
   "outputs": [],
   "source": [
    "# 수도코드 : 대충 돌아가는 것처럼 돌아가는 코드. 대략적인 코드, 의미를 전달하기 위한 코드"
   ]
  },
  {
   "cell_type": "code",
   "execution_count": null,
   "metadata": {
    "collapsed": true
   },
   "outputs": [],
   "source": [
    "def getSmallEquElements(array, pivot):\n",
    "    '''\n",
    "    array에서 pivot보다 작거나 같은 원소들을 list로 반환하는 함수\n",
    "    '''\n",
    "    \n",
    "    result = []\n",
    "    \n",
    "    for x in array:\n",
    "        if pivot >= x:\n",
    "            result.append(x)\n",
    "    \n",
    "    return result\n",
    "        \n",
    "def getLargeElements(array, pivot):\n",
    "    '''\n",
    "    array에서 pivot보다 큰 원소들을 list로 반환하는 함수\n",
    "    '''\n",
    "    \n",
    "    result = []\n",
    "    for x in array:\n",
    "        if x > pivot:\n",
    "            result.append(x)\n",
    "    \n",
    "    return result\n",
    "\n",
    "def quickSort(array):\n",
    "    '''\n",
    "    퀵정렬을 통해 오름차순으로 정렬된 array를반환하는 함수를 작성하세요.\n",
    "    1. pivot : array[0]\n",
    "    2. pivot 작은/같은 친구 left\n",
    "    3. pivot 큰 친구 left\n",
    "    4. left, right 각각 정렬\n",
    "    5. left + pivot + right\n",
    "    '''\n",
    "    \n",
    "    if len(array) <= 1:\n",
    "        return array\n",
    "        \n",
    "    pivot = array[0]\n",
    "    \n",
    "    left = getSmallEquElements(array[1:], pivot)\n",
    "    right = getLargeElements(array[1:], pivot)\n",
    "    # array[1:]을 해야함!\n",
    "    \n",
    "    left = quickSort(left)\n",
    "    right = quickSort(right)\n",
    "    \n",
    "    return left + [pivot] + right\n",
    "    \n",
    "def main():\n",
    "    line = [int(x) for x in input().split()]\n",
    "\n",
    "    print(*quickSort(line))\n",
    "\n",
    "if __name__ == \"__main__\":\n",
    "    main()\n"
   ]
  }
 ],
 "metadata": {
  "kernelspec": {
   "display_name": "Python 3",
   "language": "python",
   "name": "python3"
  },
  "language_info": {
   "codemirror_mode": {
    "name": "ipython",
    "version": 3
   },
   "file_extension": ".py",
   "mimetype": "text/x-python",
   "name": "python",
   "nbconvert_exporter": "python",
   "pygments_lexer": "ipython3",
   "version": "3.6.1"
  },
  "latex_envs": {
   "LaTeX_envs_menu_present": true,
   "autocomplete": true,
   "bibliofile": "biblio.bib",
   "cite_by": "apalike",
   "current_citInitial": 1,
   "eqLabelWithNumbers": true,
   "eqNumInitial": 1,
   "hotkeys": {
    "equation": "Ctrl-E",
    "itemize": "Ctrl-I"
   },
   "labels_anchors": false,
   "latex_user_defs": false,
   "report_style_numbering": false,
   "user_envs_cfg": false
  }
 },
 "nbformat": 4,
 "nbformat_minor": 2
}
