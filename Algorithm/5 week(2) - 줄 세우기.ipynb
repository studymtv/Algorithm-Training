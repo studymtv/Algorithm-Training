{
 "cells": [
  {
   "cell_type": "markdown",
   "metadata": {},
   "source": [
    "# 줄 세우기\n",
    "- 엘리스 초등학교에서는 합창 대회에 출전하기 위한 학생 nn명을 선발중이다. 합창 대회에 나가게 되면, nn명의 학생이 모두 한 눈에 보일 수 있게끔 좌우로 한 줄로 서서 노래를 부르게 된다.\n",
    "- 엘리스 초등학교의 남학생끼리는 사이가 별로 좋지 않기 때문에 바로 옆에 서는 것을 싫어한다. 즉, 남학생의 좌우에는 항상 여학생이 서 있어야 남학생들끼리 싸우는 것을 막을 수 있다. 예를 들어, P를 남학생, Q를 여학생이라고 한다면 아래와 같은 배치는 가능하다.\n",
    "\n",
    "P Q Q P Q Q Q Q Q Q\n",
    "\n",
    "하지만 아래와 같은 배치는 불가능하다\n",
    "\n",
    "P P Q Q Q P Q Q P P\n",
    "\n",
    "nn 명의 학생을 선발하려 하고, 남학생과 여학생은 충분히 많다고 하자. nn명의 학생을 배치하는 경우의 수를 구하는 프로그램을 작성하시오. 단, 그 경우의 수가 매우 커질 수 있으므로, 경우의 수를 1,000,000,007로 나눈 나머지를 출력한다"
   ]
  },
  {
   "cell_type": "code",
   "execution_count": 1,
   "metadata": {},
   "outputs": [
    {
     "name": "stdout",
     "output_type": "stream",
     "text": [
      "5\n",
      "13\n"
     ]
    }
   ],
   "source": [
    "import sys\n",
    "\n",
    "def lining(n) :\n",
    "    '''\n",
    "    문제 정의 : 정렬\n",
    "    조건 : P끼린 붙으면 안되고, Q끼린 붙어도 됨\n",
    "    T(i) = i명을 일렬로 줄세우는 경우의 수\n",
    "    Q => T(i-1)\n",
    "    P => T(i-2)\n",
    "    T(i) = T(i-1) + T(i-2)\n",
    "\n",
    "    '''\n",
    "    Table = [0 for i in range(n+1)]\n",
    "\n",
    "    Table[1] = 2\n",
    "    Table[2] = 3\n",
    "\n",
    "    for i in range(3, n+1) :\n",
    "        Table[i] = (Table[i-1] + Table[i-2]) % 1000000007\n",
    "\n",
    "    return Table[n]\n",
    "def main():\n",
    "    data = int(input())\n",
    "\n",
    "    print(lining(data))\n",
    "\n",
    "if __name__ == \"__main__\":\n",
    "    main()\n"
   ]
  },
  {
   "cell_type": "code",
   "execution_count": null,
   "metadata": {
    "collapsed": true
   },
   "outputs": [],
   "source": []
  }
 ],
 "metadata": {
  "kernelspec": {
   "display_name": "Python 3",
   "language": "python",
   "name": "python3"
  },
  "language_info": {
   "codemirror_mode": {
    "name": "ipython",
    "version": 3
   },
   "file_extension": ".py",
   "mimetype": "text/x-python",
   "name": "python",
   "nbconvert_exporter": "python",
   "pygments_lexer": "ipython3",
   "version": "3.6.1"
  },
  "latex_envs": {
   "LaTeX_envs_menu_present": true,
   "autocomplete": true,
   "bibliofile": "biblio.bib",
   "cite_by": "apalike",
   "current_citInitial": 1,
   "eqLabelWithNumbers": true,
   "eqNumInitial": 1,
   "hotkeys": {
    "equation": "Ctrl-E",
    "itemize": "Ctrl-I"
   },
   "labels_anchors": false,
   "latex_user_defs": false,
   "report_style_numbering": false,
   "user_envs_cfg": false
  }
 },
 "nbformat": 4,
 "nbformat_minor": 2
}
