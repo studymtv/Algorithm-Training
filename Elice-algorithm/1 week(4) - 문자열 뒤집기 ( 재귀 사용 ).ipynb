{
 "cells": [
  {
   "cell_type": "code",
   "execution_count": 2,
   "metadata": {
    "scrolled": true
   },
   "outputs": [
    {
     "name": "stdout",
     "output_type": "stream",
     "text": [
      "dacba\n"
     ]
    }
   ],
   "source": [
    "mystring = 'abcad'\n",
    "print(mystring[::-1])"
   ]
  },
  {
   "cell_type": "markdown",
   "metadata": {},
   "source": [
    "이걸 재귀로...!"
   ]
  },
  {
   "cell_type": "code",
   "execution_count": 2,
   "metadata": {
    "collapsed": true
   },
   "outputs": [],
   "source": [
    "import sys\n",
    "sys.setrecursionlimit(100000)"
   ]
  },
  {
   "cell_type": "code",
   "execution_count": 7,
   "metadata": {},
   "outputs": [
    {
     "name": "stdout",
     "output_type": "stream",
     "text": [
      "a\n",
      "a\n"
     ]
    }
   ],
   "source": [
    "def stringReverse(myString) :\n",
    "    '''\n",
    "    문자열 myString을 뒤집어서 반환하는 함수를 작성하세요.\n",
    "    '''\n",
    "    if myString == '':\n",
    "        return myString\n",
    "    else:\n",
    "        return stringReverse(myString[1:]) + myString[0]\n",
    "    \n",
    "#     if myString == '':\n",
    "#         return myString\n",
    "#     else:\n",
    "#         return stringReverse(myString[1:]) + myString[0]\n",
    "\n",
    "def main():\n",
    "    '''\n",
    "    테스트를 하고싶으면, 아래 부분을 수정합니다.\n",
    "    '''\n",
    "\n",
    "    myString = input()\n",
    "\n",
    "    print(stringReverse(myString))\n",
    "if __name__ == \"__main__\":\n",
    "    main()\n"
   ]
  },
  {
   "cell_type": "code",
   "execution_count": 7,
   "metadata": {
    "collapsed": true
   },
   "outputs": [],
   "source": [
    "def stringReverse(myString):\n",
    "    if len(myString) == 1:\n",
    "        return myString\n",
    "    else:\n",
    "        return stringReverse(mystring[1:]) + myString[0]"
   ]
  },
  {
   "cell_type": "code",
   "execution_count": null,
   "metadata": {
    "collapsed": true
   },
   "outputs": [],
   "source": [
    "# len(myString) == 1 vs myString == '' 이 2개는 우측 친구가 함수를 사용하지 않아 더 빠름..!"
   ]
  }
 ],
 "metadata": {
  "kernelspec": {
   "display_name": "Python 3",
   "language": "python",
   "name": "python3"
  },
  "language_info": {
   "codemirror_mode": {
    "name": "ipython",
    "version": 3
   },
   "file_extension": ".py",
   "mimetype": "text/x-python",
   "name": "python",
   "nbconvert_exporter": "python",
   "pygments_lexer": "ipython3",
   "version": "3.6.1"
  },
  "latex_envs": {
   "LaTeX_envs_menu_present": true,
   "autocomplete": true,
   "bibliofile": "biblio.bib",
   "cite_by": "apalike",
   "current_citInitial": 1,
   "eqLabelWithNumbers": true,
   "eqNumInitial": 1,
   "hotkeys": {
    "equation": "Ctrl-E",
    "itemize": "Ctrl-I"
   },
   "labels_anchors": false,
   "latex_user_defs": false,
   "report_style_numbering": false,
   "user_envs_cfg": false
  }
 },
 "nbformat": 4,
 "nbformat_minor": 2
}
