{
 "cells": [
  {
   "cell_type": "markdown",
   "metadata": {},
   "source": [
    "# 3 Week - Note"
   ]
  },
  {
   "cell_type": "markdown",
   "metadata": {},
   "source": [
    "## Complexity Theory \n",
    "\n",
    "### 생각해볼 점\n",
    "- 각 문제마다 풀이의 시간복잡도가 다르다\n",
    "- 연속부분 최대합 : O(n^3), 균형 맞추기 : O(2^n)\n",
    "\n",
    "- 내 풀이가 얼마나 좋은 풀이인가? (예를 들어 균형 맞추기는 O(n^3)에 불가능한가?)\n",
    "\n",
    "\n",
    "\n",
    "- 문제 자체에도 복잡도가 존재한다. => 빨리 풀 수 있는 문제가 있고, 그렇지 않은 문제가 있다!!!!!!\n",
    "\n",
    "\n",
    "## 문제의 생태계를 생각해봅시다!\n",
    "### P class\n",
    "- 다항 시간 내에 해결 가능한 문제들의 집합 ( n^k )\n",
    "- 문제가 P 집합 안에 있다는 의미\n",
    "\n",
    "### NP-Complete class\n",
    "- 다항 시간 내에 해결이 불가능한 문제들의 집합\n",
    "- 균형 맞추기 시간 복잡도는 2^n..! 이런 친구들\n",
    "\n",
    "\n",
    "### 거의 대부분 P문제들만을 다룸. \n",
    "- 가능한 모든 경우는 2^n으로 보이지만 실제로 적은 수의 경우만 고려하면 충분한 문제를 다룸!\n",
    "### 알고리즘에서는 고려해야 하는 경우를 줄이는 방법을 배움!\n",
    "- 어떻게 좀 더 줄일지에 대한 고민을 계속 하게 됩니다\n",
    "### 하지만 대표적인 NP-Complete 문제는 알면 좋습니다\n",
    "- NP-Complete로 유명한 문제를 굳이 다항시간에 풀려고 하는 일을 미연에 방지할 수 있기 때문..! \n",
    "\n",
    "- ex) 모든 경우를 다 해야되요! 이건 NP-Complete거든요!\n",
    "\n",
    "# 분할정복법 = 재귀호출!"
   ]
  },
  {
   "cell_type": "markdown",
   "metadata": {
    "collapsed": true
   },
   "source": [
    "# 재귀호출을 이용한 문제 해결\n",
    "## [예제 1] 가장 가까운 값 찾기\n",
    "- 정렬된 n개의 숫자 중 정수 m과 가장 가까운 값을 찾아라\n",
    "- 단, 1<=n<=100,000\n",
    "\n",
    "## 가장 처음 시도해야하는 것은! 완전 탐색법으로 풀어야함!!!!!!!!!!!!!!!!!!!\n",
    "\n",
    "\n",
    "- 값이 정렬되어 있으면! 이진 탐색을 할 수 있음 ( Binary search ) : 절반씩 나누면서 탐색\n",
    "- 1 4 6 7 10 14 16\n",
    "- 14를 찾고 싶음!\n",
    "- 중간 값을 보면 7, 고로 왼쪽 값들은 고려하지 않음\n",
    "- 그 이후 남은 10 14 16의 중간 값을 고름. 14 오! 맞음! 고고! 이런 상황\n",
    "- 한번 할 때마다 절반이 날라감!\n",
    "\n",
    "- 숫자가 16개면 8 4 2 1 0 5번안에 가능..! \n",
    "- N개면 n/2 .. n/4.... logn번안에 가능..!\n",
    "\n",
    "- log가 들어간 시간복잡도는 매우 빠른 친구!"
   ]
  },
  {
   "cell_type": "markdown",
   "metadata": {
    "collapsed": true
   },
   "source": [
    "- cursor를 움직이며 이진 탐색을 구현하는 것이 일반적임\n",
    "- 그러나 언제 끝내야할 지 고민을 하게 됨.. ( 말리는 곳임! )\n",
    "\n",
    "## 구현을 한번에 제대로 하려면\n",
    "## 변수 및 함수의 의미를 명확히 한다! \n",
    "- 명확하지 않으면 200% 말리게 되어 있음. 생각하며 이 변수는 무엇을 담아야지.. 이렇게 생각\n",
    "\n",
    "## 의미를 되새기면서 천천히 구현해야 한다. \n",
    "- 빠르게 구현해도 200% 말리게 되어 있음\n"
   ]
  },
  {
   "cell_type": "markdown",
   "metadata": {},
   "source": [
    "- 두가지 커서가 무슨 값을 가르키는가?\n",
    "- 대충 첫, 끝이라고 하면 안됨!\n",
    "\n",
    "- 왼쪽 : 항상 작은 값을 가리킨다\n",
    "- 오른쪽 : 항상 큰 값을 가리킨다\n",
    "\n",
    "- 1 4 6 7 10 14 16\n",
    "- 8을 찾으려는데 가운데 값이 7이면 왼쪽 값을 옮기면 됨(작으니까!)\n",
    "- 그 후 10\n",
    "- 둘이 붙었으면? 없음!\n",
    "- 왼쪽이 가리키는 값과 오른쪾이 가리키는 값에도 의미가 존재\n",
    "- 둘 사이에 값이 있으면 -> 있을 수도 있다! 더 해봐야한다는 의미"
   ]
  },
  {
   "cell_type": "markdown",
   "metadata": {},
   "source": [
    "# 재귀 함수의 올바른 디자인 및 해석 (다시보기)\n",
    "1. 함수의 정의를 명확히 한다\n",
    "2. 기저 조건(Base Condition)에서 함수가 제대로 동작하게 작성한다\n",
    "3. 그 후, 함수가 (작은 input에 대하여) 제대로 동작한다고 가정하고 함수를 완성한다."
   ]
  },
  {
   "cell_type": "code",
   "execution_count": null,
   "metadata": {
    "collapsed": true
   },
   "outputs": [],
   "source": [
    "# 1. 함수의 정의를 명확히한다\n",
    "getNearest(data, m)\n",
    "# data에서 m보다 작은 값 중 최댓값, m보다 큰 값 중 최솟값을 반환하는 함수\n",
    "\n",
    "# 2. 기저조건에서 함수가 제대로 동작하게 작성\n",
    "n = 1\n",
    "16  / 8\n",
    "(-무한대, 16)\n",
    "\n",
    "n = 2\n",
    "10 14 / 8\n",
    "(-무한대, 10)\n",
    "\n",
    "n = 2\n",
    "2 6 / 8\n",
    "(6, 무한대)\n",
    "\n",
    "n = 2\n",
    "7 10 / 8\n",
    "(7, 10)\n",
    "\n",
    "# 3. 작은 input에 대하여 제대로 동작한다고 가정하고 함수를 완성\n",
    "\n",
    "getNearest ( [7 10 14 16], 8)"
   ]
  },
  {
   "cell_type": "code",
   "execution_count": 3,
   "metadata": {},
   "outputs": [
    {
     "name": "stdout",
     "output_type": "stream",
     "text": [
      "1 3 6 8\n",
      "4\n",
      "3\n"
     ]
    }
   ],
   "source": [
    "import sys\n",
    "import math\n",
    "\n",
    "def getNearestInternal(data, m):\n",
    "    '''\n",
    "    n개의 숫자가 list로 주어지고, 숫자 m이 주어질 때,\n",
    "    m보다 작거나 같은 숫자 중 최댓값, \n",
    "    m보다 큰 숫자 중 최솟값을 반환하는 함수\n",
    "    [1,2,6,8,11,14,17], 7 -> 8 / 11\n",
    "    '''\n",
    "    # 기저조건 : 원소가 1개 or 2개\n",
    "    \n",
    "    if len(data) == 1:\n",
    "        if data[0] <= m:\n",
    "            return (data[0], math.inf)\n",
    "        else :\n",
    "            return (-math.inf, data[0])\n",
    "    \n",
    "    elif len(data) == 2:\n",
    "        # [1, 3] 9\n",
    "        if data[1] <= m:\n",
    "            return (data[1], math.inf)\n",
    "        \n",
    "        # [1, 11] 9\n",
    "        elif data[0] <= m and m < data[1]:\n",
    "            return (data[0], data[1])\n",
    "        \n",
    "        # [10, 11] 9\n",
    "        else:\n",
    "            return (-math.inf, data[0])\n",
    "        \n",
    "            \n",
    "    # mid 잡아서 커서 옮기기\n",
    "    mid = len(data) // 2\n",
    "    # [1, 3, 8, 11, 14, 18] 9\n",
    "    \n",
    "    if data[mid] <= m:\n",
    "        return getNearestInternal(data[mid:], m)\n",
    "    else:\n",
    "        return getNearestInternal(data[:mid+1], m)\n",
    "    \n",
    "\n",
    "def getNearest(data, m):\n",
    "    '''\n",
    "    n개의 숫자가 list로 주어지고, 숫자 m이 주어질 때, n개의 숫자 중에서\n",
    "    m과 가까운 숫자를 반환하는 함수를 작성하세요\n",
    "    '''\n",
    "    \n",
    "    value = getNearestInternal(data, m)\n",
    "    \n",
    "    if m - value[0] <= value[1] - m:\n",
    "        return value[0]\n",
    "    else :\n",
    "        return value[1]\n",
    "    \n",
    "def main():\n",
    "    data = [int(x) for x in input().split()]\n",
    "    m = int(input())\n",
    "    print(getNearest(data, m))\n",
    "    \n",
    "if __name__ == \"__main__\":\n",
    "    main()\n"
   ]
  },
  {
   "cell_type": "markdown",
   "metadata": {},
   "source": [
    "# 2. 거듭제곱 구하기"
   ]
  },
  {
   "cell_type": "markdown",
   "metadata": {},
   "source": [
    "- m^n을 구하는 프로그램을 작성\n",
    "- 허나 n이 엄청 커서 오래 걸림"
   ]
  },
  {
   "cell_type": "code",
   "execution_count": 4,
   "metadata": {
    "collapsed": true
   },
   "outputs": [],
   "source": [
    "# getPower(m, n) : m^n을 반환하는 함수\n",
    "\n",
    "# 기저조건 m^0 = 1\n",
    "# m^n = m^n-1 x m\n",
    "\n",
    "# 점화식 : getPower(m, n) = m x getPower(m, n-1)\n",
    "# 기저조건 : getPower(m, 0) = 1"
   ]
  },
  {
   "cell_type": "code",
   "execution_count": 5,
   "metadata": {
    "collapsed": true
   },
   "outputs": [],
   "source": [
    "def getPower(m, n):\n",
    "    if n == 0:\n",
    "        return 1\n",
    "    else:\n",
    "        return m*getPower(m, n-1)\n",
    "    \n",
    "# 시간 복잡도 O(n)"
   ]
  },
  {
   "cell_type": "code",
   "execution_count": 8,
   "metadata": {
    "collapsed": true
   },
   "outputs": [],
   "source": [
    "# n이 짝수일 경우 m^n = (m^(n/2))^2 \n",
    "# n이 홀수일 경우     = (m^n-1)x m 만약 홀수라면 그 다음은 짝수가 됨! \n",
    "# 적어도 두번이면 절반떨어짐\n",
    "# O(logn)"
   ]
  },
  {
   "cell_type": "code",
   "execution_count": 10,
   "metadata": {
    "collapsed": true
   },
   "outputs": [],
   "source": [
    "def getPower(m, n):\n",
    "    if n == 0:\n",
    "        return 1\n",
    "    elif n % 2 == 0:\n",
    "        temp = getPower(m, n//2)\n",
    "        return temp*temp\n",
    "    else : \n",
    "        return getPower(m, n-1) * m\n",
    "    \n",
    "# 시간 복잡도 O(log n)"
   ]
  },
  {
   "cell_type": "code",
   "execution_count": 11,
   "metadata": {
    "collapsed": true
   },
   "outputs": [],
   "source": [
    "LIMIT_NUMBER = 10000007\n",
    "def getPower(m, n):\n",
    "    '''\n",
    "    m^n을 LIMIT_NUMBER로 나눈 나머지를 반환하는 함수를 작성하세요\n",
    "    '''\n",
    "    \n",
    "    if n == 0:\n",
    "        return 1\n",
    "    elif n % 2 == 0:\n",
    "        temp = getPower(m, n//2)\n",
    "        return (temp*temp) % LIMIT_NUMBER\n",
    "    else : \n",
    "        temp = getPower(m, n-1)\n",
    "        return (temp * m) % LIMIT_NUMBER"
   ]
  },
  {
   "cell_type": "markdown",
   "metadata": {},
   "source": [
    "# 분할 정복법!!!!!!!!!\n",
    "- 재귀는 다 분할 정복법\n",
    "\n",
    "1) 문제를 소문제로 분할\n",
    "\n",
    "2) 각각의 소문제를 해결\n",
    "\n",
    "3) 소문제의 해결 결과를 이용하여 전체 문제를 해결\n",
    "\n",
    "### 마치 신경망같네요\n",
    "# 퀵정렬\n",
    "# 합병정렬 ( Merge Sort )\n"
   ]
  },
  {
   "cell_type": "markdown",
   "metadata": {},
   "source": [
    "# 합병 정렬의 시간복잡도\n",
    "\n",
    "- T(N) : N개의 숫자를 정렬하는 데 걸리는 시간\n",
    "- L | R 분할한 후, 왼쪽 정렬하고 오른쪽 정렬함. 그 다음 결과를 합침\n",
    "- 왼쪽 정렬하는데 시간이 얼마나 걸릴까요? T(N/2)\n",
    "- 정렬되는거 합치는데 O(N)\n",
    "- T(N) = 2* T(N/2) + O(N)\n",
    "- 점화식!\n",
    "\n",
    "- T = nlogn\n",
    "- O(N log N)\n",
    "\n"
   ]
  },
  {
   "cell_type": "markdown",
   "metadata": {},
   "source": [
    "# 예제4. 연속부분 최대합 (Medium)"
   ]
  },
  {
   "cell_type": "code",
   "execution_count": 12,
   "metadata": {
    "collapsed": true
   },
   "outputs": [],
   "source": [
    "# 저번 시간엔 n이 100이여서 완전 탐색으로 풀었으나\n",
    "# 이번엔 0 <= n <= 100,000. 1분안에 절대 안됨\n",
    "\n",
    "# 분할 정복법으로 해보자\n",
    "# 우선 절반으로 나눈어 각각을 구해보자\n",
    "\n",
    "# 왼쪽만 보고, 오른쪽만 보고! \n",
    "\n",
    "# 자른 지점을 포함한 연속 부분을 고려하지 않았음. (걸치는 부분)\n",
    "# 자른 지점을 포함하는 연속 부분의 최대합은 어떻게 구할까?\n",
    "\n",
    "# 가운데 잡고 쭉 끌어당기는 것(좌우로) -> 끌어당기면서 합이 최대가..!\n",
    "# Key Point : 독립!!!!\n",
    "# 오른쪽 뻗는 것은 왼쪽 뻗는 것과 상관이 없는 독립임.\n",
    "# 계단처럼 구성할 수 있음.\n",
    "# 왼쪽에서 뻗는 것의 합이 최대인 것과 오른쪽에서 뻗는 것의 합이 최대인 것을 합치면 됨!\n",
    "\n",
    "# T(N) = 2*T(N/2) + O(N) => O (N log N)"
   ]
  },
  {
   "cell_type": "code",
   "execution_count": 17,
   "metadata": {},
   "outputs": [
    {
     "name": "stdout",
     "output_type": "stream",
     "text": [
      "-1 0 2 -2 3\n",
      "3\n"
     ]
    }
   ],
   "source": [
    "def getSubsum(data):\n",
    "    '''\n",
    "    n개의 숫자가 list로 주어질 떄, 그 연속 부분 최대합을 반환하는 함수 작성\n",
    "    '''\n",
    "    if len(data) <= 1:\n",
    "        return data[0]\n",
    "    \n",
    "    n = len(data)\n",
    "    mid = n // 2\n",
    "    \n",
    "    left = getSubsum(data[:mid]) # 0 ~ mid-1\n",
    "    right = getSubsum(data[mid:]) # mid ~ n\n",
    "    \n",
    "    leftSum = 0\n",
    "    rightSum = 0\n",
    "    \n",
    "    # 왼쪽\n",
    "    Sum = 0\n",
    "    \n",
    "    for i in range(mid-1, -1, -1):\n",
    "        Sum += data[i]\n",
    "        leftSum = max(Sum, leftSum)\n",
    "        \n",
    "    # 오른쪽\n",
    "    Sum = 0\n",
    "    \n",
    "    for i in range(mid, n):\n",
    "        Sum += data[i]\n",
    "        rightSum = max(Sum, rightSum)\n",
    "        \n",
    "    return max([left, right, leftSum + rightSum])\n",
    "\n",
    "def main():\n",
    "    data = [int(x) for x in input().split()]\n",
    "#     m = int(input())\n",
    "    print(getSubsum(data))\n",
    "    \n",
    "if __name__ == \"__main__\":\n",
    "    main()\n"
   ]
  },
  {
   "cell_type": "markdown",
   "metadata": {},
   "source": [
    "# 분할정복법\n",
    "### 어렵다\n",
    "- 분할정복법으로 해결할 수 있는 문제인지 파악하는 것이 어려움\n",
    "- 분할을 한다면, 어떻게 해야 하는지 어렵다\n",
    "- 합칠때는 어떻게 합쳐야 하는지\n",
    "- 코딩은 어떻게 하는지\n",
    "- 빠르긴 빠른지..!\n",
    "\n",
    "\n",
    "### 분할정복법으로 해결할 수 있는 대표적인 예제를 꼭 알아두자\n",
    "- 합병정렬, 퀵정렬, 거듭제곱 구학, 연속부분 최대합\n",
    "- [ADV] 히스토그램, Inversion Counting, 가장 가까운 두 점 찾기\n",
    "\n",
    "### 수학적 문제 해결 능력이 가장 중요하다\n",
    "- 코딩 능력은 문제 해결 능력과 다르다"
   ]
  },
  {
   "cell_type": "code",
   "execution_count": null,
   "metadata": {
    "collapsed": true
   },
   "outputs": [],
   "source": []
  }
 ],
 "metadata": {
  "kernelspec": {
   "display_name": "Python 3",
   "language": "python",
   "name": "python3"
  },
  "language_info": {
   "codemirror_mode": {
    "name": "ipython",
    "version": 3
   },
   "file_extension": ".py",
   "mimetype": "text/x-python",
   "name": "python",
   "nbconvert_exporter": "python",
   "pygments_lexer": "ipython3",
   "version": "3.6.1"
  },
  "latex_envs": {
   "LaTeX_envs_menu_present": true,
   "autocomplete": true,
   "bibliofile": "biblio.bib",
   "cite_by": "apalike",
   "current_citInitial": 1,
   "eqLabelWithNumbers": true,
   "eqNumInitial": 1,
   "hotkeys": {
    "equation": "Ctrl-E",
    "itemize": "Ctrl-I"
   },
   "labels_anchors": false,
   "latex_user_defs": false,
   "report_style_numbering": false,
   "user_envs_cfg": false
  }
 },
 "nbformat": 4,
 "nbformat_minor": 2
}
