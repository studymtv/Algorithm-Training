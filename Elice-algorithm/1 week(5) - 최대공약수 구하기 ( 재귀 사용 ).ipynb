{
 "cells": [
  {
   "cell_type": "code",
   "execution_count": 45,
   "metadata": {},
   "outputs": [
    {
     "name": "stdout",
     "output_type": "stream",
     "text": [
      "10 2\n",
      "2\n"
     ]
    }
   ],
   "source": [
    "def GCD(x, y) :\n",
    "    '''\n",
    "    x, y의 최대공약수를 반환하는 함수\n",
    "    '''\n",
    "    if y == 0:\n",
    "        return x\n",
    "    else:\n",
    "        return GCD(y, x % y)\n",
    "\n",
    "def main():\n",
    "    '''\n",
    "    Do not change this code\n",
    "    '''\n",
    "\n",
    "    data = input()\n",
    "\n",
    "    x = int(data.split()[0])\n",
    "    y = int(data.split()[1])\n",
    "\n",
    "    print(GCD(x, y))\n",
    "\n",
    "if __name__ == \"__main__\":\n",
    "    main()\n",
    "\n",
    "\n"
   ]
  },
  {
   "cell_type": "code",
   "execution_count": 38,
   "metadata": {
    "collapsed": true
   },
   "outputs": [],
   "source": [
    "def GCD(x, y):\n",
    "    if x%y ==0:\n",
    "        return y\n",
    "    \n",
    "    v, r = divmod(x, y)\n",
    "    print(v, r)\n",
    "    if r == 0:\n",
    "        return v\n",
    "    else:\n",
    "        print('r :', r)\n",
    "        print('yv', y, v)\n",
    "        return GCD(y, v)"
   ]
  },
  {
   "cell_type": "code",
   "execution_count": 44,
   "metadata": {},
   "outputs": [
    {
     "data": {
      "text/plain": [
       "2"
      ]
     },
     "execution_count": 44,
     "metadata": {},
     "output_type": "execute_result"
    }
   ],
   "source": [
    "5%3"
   ]
  }
 ],
 "metadata": {
  "kernelspec": {
   "display_name": "Python 3",
   "language": "python",
   "name": "python3"
  },
  "language_info": {
   "codemirror_mode": {
    "name": "ipython",
    "version": 3
   },
   "file_extension": ".py",
   "mimetype": "text/x-python",
   "name": "python",
   "nbconvert_exporter": "python",
   "pygments_lexer": "ipython3",
   "version": "3.6.1"
  },
  "latex_envs": {
   "LaTeX_envs_menu_present": true,
   "autocomplete": true,
   "bibliofile": "biblio.bib",
   "cite_by": "apalike",
   "current_citInitial": 1,
   "eqLabelWithNumbers": true,
   "eqNumInitial": 1,
   "hotkeys": {
    "equation": "Ctrl-E",
    "itemize": "Ctrl-I"
   },
   "labels_anchors": false,
   "latex_user_defs": false,
   "report_style_numbering": false,
   "user_envs_cfg": false
  }
 },
 "nbformat": 4,
 "nbformat_minor": 2
}
