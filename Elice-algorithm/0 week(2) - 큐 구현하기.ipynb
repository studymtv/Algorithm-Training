{
 "cells": [
  {
   "cell_type": "markdown",
   "metadata": {},
   "source": [
    "# 큐 구현하기"
   ]
  },
  {
   "cell_type": "markdown",
   "metadata": {},
   "source": [
    "이번 예제에서는 정수를 저장하는 큐를 구현합니다. 큐의 기능은 다음과 같습니다.\n",
    "\n",
    "명령은 총 여섯 가지입니다.\n",
    "\n",
    "push(X) : 정수 X를 큐에 넣는 함수입니다.\n",
    "\n",
    "pop() : 큐에서 가장 앞에 있는 정수를 뺍니다. 만약 큐에 들어있는 정수가 없는 경우에는 아무런 행동을 하지않습니다.\n",
    "\n",
    "size() : 큐에 들어있는 정수의 개수를 리턴합니다.\n",
    "\n",
    "empty() : 큐가 비어있으면 1, 아니면 0을 리턴합니다.\n",
    "\n",
    "front() : 큐의 가장 앞에 있는 정수를 리턴합니다. 만약 큐에 들어있는 정수가 없는 경우에는 아무런 행동을 하지않습니다.\n",
    "\n",
    "back() : 큐의 가장 뒤에 있는 정수를 리턴합니다. 만약 큐에 들어있는 정수가 없는 경우에는 아무런 행동을 하지않습니다"
   ]
  },
  {
   "cell_type": "code",
   "execution_count": 1,
   "metadata": {
    "collapsed": true
   },
   "outputs": [],
   "source": [
    "test = [1,4,5]"
   ]
  },
  {
   "cell_type": "code",
   "execution_count": 3,
   "metadata": {},
   "outputs": [],
   "source": [
    "test.append(3)"
   ]
  },
  {
   "cell_type": "code",
   "execution_count": 13,
   "metadata": {},
   "outputs": [
    {
     "ename": "IndexError",
     "evalue": "pop index out of range",
     "output_type": "error",
     "traceback": [
      "\u001b[0;31m---------------------------------------------------------------------------\u001b[0m",
      "\u001b[0;31mIndexError\u001b[0m                                Traceback (most recent call last)",
      "\u001b[0;32m<ipython-input-13-4922a42c413b>\u001b[0m in \u001b[0;36m<module>\u001b[0;34m()\u001b[0m\n\u001b[0;32m----> 1\u001b[0;31m \u001b[0mtest\u001b[0m\u001b[0;34m.\u001b[0m\u001b[0mpop\u001b[0m\u001b[0;34m(\u001b[0m\u001b[0;36m1\u001b[0m\u001b[0;34m)\u001b[0m\u001b[0;34m\u001b[0m\u001b[0m\n\u001b[0m",
      "\u001b[0;31mIndexError\u001b[0m: pop index out of range"
     ]
    }
   ],
   "source": [
    "test.pop(1)"
   ]
  },
  {
   "cell_type": "code",
   "execution_count": 14,
   "metadata": {},
   "outputs": [
    {
     "data": {
      "text/plain": [
       "[1]"
      ]
     },
     "execution_count": 14,
     "metadata": {},
     "output_type": "execute_result"
    }
   ],
   "source": [
    "test"
   ]
  },
  {
   "cell_type": "code",
   "execution_count": 30,
   "metadata": {},
   "outputs": [
    {
     "name": "stdout",
     "output_type": "stream",
     "text": [
      "1\n",
      "1\n",
      "1\n"
     ]
    }
   ],
   "source": [
    "class Queue:\n",
    "    '''\n",
    "    List를 이용하여 다음의 method들을 작성하세요.\n",
    "    '''\n",
    "    def __init__(self) :\n",
    "        '''\n",
    "        큐 myQueue을 만듭니다.\n",
    "        '''\n",
    "        self.myQueue = []\n",
    "        \n",
    "#         return myQueue\n",
    "\n",
    "    def push(self, n) :\n",
    "        '''\n",
    "        queue에 정수 n을 넣습니다.\n",
    "        '''\n",
    "        self.myQueue.append(n)\n",
    "        \n",
    "        return self.myQueue\n",
    "\n",
    "    def pop(self) :\n",
    "        '''\n",
    "        queue에서 가장 앞에 있는 정수를 제거합니다. 만약 queue에 들어있는 값이 없을 경우에는 아무 일도 하지 않습니다. \n",
    "        '''\n",
    "        try:\n",
    "            self.myQueue.pop(1)\n",
    "        except:\n",
    "            pass\n",
    "        \n",
    "        return self.myQueue\n",
    "\n",
    "    def size(self) :\n",
    "        '''\n",
    "        queue에 들어 있는 정수의 개수를 return 합니다.\n",
    "        '''\n",
    "        value = len(self.myQueue)\n",
    "        \n",
    "        return value\n",
    "\n",
    "    def empty(self) :\n",
    "        '''\n",
    "        queue이 비어있다면 1, 아니면 0을 return 합니다.\n",
    "    \n",
    "        '''\n",
    "        if len(self.myQueue) == 0:\n",
    "            return 1\n",
    "        elif len(self.myQueue) != 0:\n",
    "            return 0\n",
    "        \n",
    "\n",
    "    def front(self) :\n",
    "        '''\n",
    "        queue의 가장 앞에 있는 정수를 return 합니다. 만약 queue에 들어있는 값이 없을 경우에는 -1을 return 합니다.\n",
    "        '''\n",
    "        if len(self.myQueue) == 0:\n",
    "            return -1\n",
    "        else:\n",
    "            return self.myQueue[0]\n",
    "\n",
    "    def back(self) :\n",
    "        '''\n",
    "        queue의 가장 뒤에 있는 정수를 return 합니다. 만약 queue에 들어있는 값이 없을 경우에는 -1을 return 합니다.\n",
    "        '''\n",
    "        if len(self.myQueue) == 0:\n",
    "            return -1\n",
    "        else:\n",
    "            return self.myQueue[-1]\n",
    "\n",
    "\n",
    "\n",
    "\n",
    "def main():\n",
    "    queue = Queue()\n",
    "\n",
    "    '''\n",
    "    테스트를 하고싶으면, 아래 부분을 수정합니다.\n",
    "    '''\n",
    "    queue.push(1)\n",
    "    queue.push(2)\n",
    "    queue.push(4)\n",
    "    queue.pop()\n",
    "    queue.pop()\n",
    "    queue.pop()\n",
    "\n",
    "    print(queue.size()) \n",
    "    print(queue.front())\n",
    "    print(queue.back())\n",
    "\n",
    "\n",
    "if __name__ == \"__main__\":\n",
    "    main()"
   ]
  },
  {
   "cell_type": "code",
   "execution_count": null,
   "metadata": {
    "collapsed": true
   },
   "outputs": [],
   "source": []
  }
 ],
 "metadata": {
  "kernelspec": {
   "display_name": "Python 3",
   "language": "python",
   "name": "python3"
  },
  "language_info": {
   "codemirror_mode": {
    "name": "ipython",
    "version": 3
   },
   "file_extension": ".py",
   "mimetype": "text/x-python",
   "name": "python",
   "nbconvert_exporter": "python",
   "pygments_lexer": "ipython3",
   "version": "3.6.1"
  }
 },
 "nbformat": 4,
 "nbformat_minor": 2
}
