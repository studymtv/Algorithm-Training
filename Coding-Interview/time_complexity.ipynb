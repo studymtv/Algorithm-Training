{
 "cells": [
  {
   "cell_type": "markdown",
   "metadata": {},
   "source": [
    "# 시간복잡도\n",
    "- big-O 시간 : 알고리즘의 효율성을 나타내는 지표\n",
    "- ```O(N)``` : 파일의 크기가 증가함에 따라 선형적으로 증가\n",
    "- ```O(1)``` : 파일 크기에 관계없이 일정 시간 소요\n",
    "- ```O(logN)``` : 단계가 지나며 원소의 개수가 절반씩 줄어드는 경우\n",
    "- ```O(2^N)``` : 자기 자신을 계속 호출하는, 재귀적으로 수행할 경우\n",
    "\n",
    "\n",
    "## 구하는 방법\n",
    "- 상수항은 무시\n",
    "    - big-O는 단순히 증가하는 비율을 나타내는 개념\n",
    "- 지배적이지 않은 항은 무시\n",
    "    - $O(N^{2}+N)$은 $O(N^{2})$이 됨\n",
    "    - $O(N+logN)$은 $O(N)$이 됨\n",
    "    - $O(5*2^{N}+1000N^{100})$은 $O(2^{N})$\n",
    "    - 단 두 항의 특별한 관계를 모르는 경우엔 하나의 항으로 줄일 수 없음\n",
    "- 여러 부분으로 이루어진 알고리즘 : 덧셈, 곱셈\n",
    "    - A를 끝낸 후 B 일을 수행하는 경우는 A+B\n",
    "    - A를 할 때마다 B 일을 수행하는 경우는 AB"
   ]
  },
  {
   "cell_type": "code",
   "execution_count": null,
   "metadata": {},
   "outputs": [],
   "source": [
    "def sum_node(node):\n",
    "    if node is null:\n",
    "        return 0\n",
    "    return sum(node.ef)"
   ]
  }
 ],
 "metadata": {
  "kernelspec": {
   "display_name": "Python 3",
   "language": "python",
   "name": "python3"
  },
  "language_info": {
   "codemirror_mode": {
    "name": "ipython",
    "version": 3
   },
   "file_extension": ".py",
   "mimetype": "text/x-python",
   "name": "python",
   "nbconvert_exporter": "python",
   "pygments_lexer": "ipython3",
   "version": "3.6.5"
  },
  "varInspector": {
   "cols": {
    "lenName": 16,
    "lenType": 16,
    "lenVar": 40
   },
   "kernels_config": {
    "python": {
     "delete_cmd_postfix": "",
     "delete_cmd_prefix": "del ",
     "library": "var_list.py",
     "varRefreshCmd": "print(var_dic_list())"
    },
    "r": {
     "delete_cmd_postfix": ") ",
     "delete_cmd_prefix": "rm(",
     "library": "var_list.r",
     "varRefreshCmd": "cat(var_dic_list()) "
    }
   },
   "types_to_exclude": [
    "module",
    "function",
    "builtin_function_or_method",
    "instance",
    "_Feature"
   ],
   "window_display": false
  }
 },
 "nbformat": 4,
 "nbformat_minor": 2
}
