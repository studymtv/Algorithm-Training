{
 "cells": [
  {
   "cell_type": "markdown",
   "metadata": {},
   "source": [
    "## 해시 테이블\n",
    "- 가장 유용한 기본 자료구조\n",
    "- 해시 테이블의 구현 방법, 충돌, 해시 함수\n",
    "- 해시 함수\n",
    "    - 문자열을 받아서 숫자를 변환하는 함수\n",
    "    - 일관성 : apple을 넣었을 때 4를 반환할 경우 apple을 넣고 항상 4 반환\n",
    "    - 서로 다른 단어에 대해 모두 서로 다른 숫자가 나와야 함\n",
    "- 해시 테이블\n",
    "    - 해시 맵, 맵, 딕셔너리, 연관 배열이랑 동의어\n",
    "    - 속도 빠름\n",
    "    - 파이썬에선 dict\n",
    "    - 장점\n",
    "        - 관계를 모형화\n",
    "        - 중복을 막을 수 있음\n",
    "        - 서버에게 작업을 시키지 않고 자료 캐싱 가능"
   ]
  },
  {
   "cell_type": "code",
   "execution_count": 5,
   "metadata": {},
   "outputs": [],
   "source": [
    "book = dict()\n",
    "book[\"apple\"] = 0.67\n",
    "book[\"milk\"] = 1.49\n",
    "book[\"avocado\"] = 1.49"
   ]
  },
  {
   "cell_type": "code",
   "execution_count": 6,
   "metadata": {},
   "outputs": [
    {
     "name": "stdout",
     "output_type": "stream",
     "text": [
      "{'apple': 0.67, 'milk': 1.49, 'avocado': 1.49}\n"
     ]
    }
   ],
   "source": [
    "print(book)"
   ]
  },
  {
   "cell_type": "code",
   "execution_count": 7,
   "metadata": {},
   "outputs": [
    {
     "name": "stdout",
     "output_type": "stream",
     "text": [
      "1.49\n",
      "CPU times: user 223 µs, sys: 73 µs, total: 296 µs\n",
      "Wall time: 263 µs\n"
     ]
    }
   ],
   "source": [
    "%%time\n",
    "print(book[\"avocado\"])"
   ]
  },
  {
   "cell_type": "markdown",
   "metadata": {},
   "source": [
    "### 해시 테이블을 사용하는 예\n",
    "- 어떤 것을 다른 것과 연관시킬 때\n",
    "- 무언가를 찾아볼 때\n",
    "- 운 tltmxpadptjeh tkdyd"
   ]
  },
  {
   "cell_type": "code",
   "execution_count": 8,
   "metadata": {},
   "outputs": [],
   "source": [
    "phone_book = dict()"
   ]
  },
  {
   "cell_type": "code",
   "execution_count": 9,
   "metadata": {},
   "outputs": [],
   "source": [
    "phone_book[\"jenny\"] = 8675309\n",
    "phone_book[\"emergency\"] = 911"
   ]
  },
  {
   "cell_type": "code",
   "execution_count": 10,
   "metadata": {},
   "outputs": [
    {
     "name": "stdout",
     "output_type": "stream",
     "text": [
      "8675309\n"
     ]
    }
   ],
   "source": [
    "print(phone_book[\"jenny\"])"
   ]
  },
  {
   "cell_type": "code",
   "execution_count": 13,
   "metadata": {},
   "outputs": [],
   "source": [
    "voted = {}\n",
    "\n",
    "def check_voter(name):\n",
    "    if voted.get(name):\n",
    "        print(\"쫓아내기!\")\n",
    "    else:\n",
    "        voted[name] = True\n",
    "        print(\"투표!\")"
   ]
  },
  {
   "cell_type": "code",
   "execution_count": 14,
   "metadata": {},
   "outputs": [
    {
     "name": "stdout",
     "output_type": "stream",
     "text": [
      "투표!\n"
     ]
    }
   ],
   "source": [
    "check_voter(\"tom\")"
   ]
  },
  {
   "cell_type": "code",
   "execution_count": 15,
   "metadata": {},
   "outputs": [
    {
     "name": "stdout",
     "output_type": "stream",
     "text": [
      "투표!\n"
     ]
    }
   ],
   "source": [
    "check_voter(\"mike\")"
   ]
  },
  {
   "cell_type": "code",
   "execution_count": 16,
   "metadata": {},
   "outputs": [
    {
     "name": "stdout",
     "output_type": "stream",
     "text": [
      "쫓아내기!\n"
     ]
    }
   ],
   "source": [
    "check_voter(\"mike\")"
   ]
  },
  {
   "cell_type": "code",
   "execution_count": 19,
   "metadata": {},
   "outputs": [],
   "source": [
    "voted[\"mike2\"] = True"
   ]
  },
  {
   "cell_type": "code",
   "execution_count": 20,
   "metadata": {},
   "outputs": [
    {
     "data": {
      "text/plain": [
       "{'tom': True, 'mike': True, 'mike2': True}"
      ]
     },
     "execution_count": 20,
     "metadata": {},
     "output_type": "execute_result"
    }
   ],
   "source": [
    "voted"
   ]
  },
  {
   "cell_type": "markdown",
   "metadata": {},
   "source": [
    "### 해시 테이블을 캐시로 사용하기\n",
    "- 자주 물어보는 질문은 다시 계산하지 않고 저장했다가 알려줌\n",
    "- 캐싱은 작업 속도를 올릴 수 있는 방법\n",
    "- 페이스북의 URL 호출\n",
    "    - 해시 테이블 유무 확인\n",
    "    - 있다면 해시 테이블의 내용 전송\n",
    "    - 없다면 서버가 작업"
   ]
  },
  {
   "cell_type": "code",
   "execution_count": 21,
   "metadata": {},
   "outputs": [],
   "source": [
    "cahce = {}\n",
    "\n",
    "def get_page(url):\n",
    "    if cache.get(url):\n",
    "        return cache[url]\n",
    "    else:\n",
    "        data = get_data_from_server(url)\n",
    "        cache[url] = data\n",
    "        return data"
   ]
  },
  {
   "cell_type": "markdown",
   "metadata": {},
   "source": [
    "### 충돌\n",
    "- 해시 테이블의 성능을 이해하려면 충돌에 대해 이해해야 함\n",
    "- 충돌 : 두 개의 키가 같은 공간에 할당\n",
    "- 충돌을 해결하는 방법\n",
    "    - 같은 공간에 여러 키를 연결 리스트로 만듬 => 결국 해시 테이블이 느려짐\n",
    "    - 좋은 해시 함수를 사용(충돌을 최소화)\n",
    "        - 해시 함수는 키를 해시 테이블 전체에 고르게 할당해야 함\n",
    "- 충돌 피하기\n",
    "    - 낮은 사용률 \n",
    "        - 해시 테이블에 있는 항목의 수 / 해시 테이블에 있는 공간의 수\n",
    "        - 사용률이 1보다 크면 테이블의 공간을 추가 : 리사이징\n",
    "    - 좋은 해시 함수\n",
    "        - SHA"
   ]
  },
  {
   "cell_type": "code",
   "execution_count": null,
   "metadata": {},
   "outputs": [],
   "source": []
  }
 ],
 "metadata": {
  "kernelspec": {
   "display_name": "Python 3",
   "language": "python",
   "name": "python3"
  },
  "language_info": {
   "codemirror_mode": {
    "name": "ipython",
    "version": 3
   },
   "file_extension": ".py",
   "mimetype": "text/x-python",
   "name": "python",
   "nbconvert_exporter": "python",
   "pygments_lexer": "ipython3",
   "version": "3.6.5"
  },
  "varInspector": {
   "cols": {
    "lenName": 16,
    "lenType": 16,
    "lenVar": 40
   },
   "kernels_config": {
    "python": {
     "delete_cmd_postfix": "",
     "delete_cmd_prefix": "del ",
     "library": "var_list.py",
     "varRefreshCmd": "print(var_dic_list())"
    },
    "r": {
     "delete_cmd_postfix": ") ",
     "delete_cmd_prefix": "rm(",
     "library": "var_list.r",
     "varRefreshCmd": "cat(var_dic_list()) "
    }
   },
   "types_to_exclude": [
    "module",
    "function",
    "builtin_function_or_method",
    "instance",
    "_Feature"
   ],
   "window_display": false
  }
 },
 "nbformat": 4,
 "nbformat_minor": 2
}
