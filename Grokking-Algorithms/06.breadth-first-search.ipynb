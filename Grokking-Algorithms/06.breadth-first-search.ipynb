{
 "cells": [
  {
   "cell_type": "markdown",
   "metadata": {},
   "source": [
    "## 너비 우선 탐색(BFS)\n",
    "- 새로운 추상 자료구조인 그래프를 사용해 네트워크를 모형화하는 방법\n",
    "- 너비 우선 탐색은 \"X로 가는 최단 경로는 무엇일까?\"와 같은 문제에 답을 함\n",
    "- 방향 그래프(directed graph)와 무방향 그래프(undirected graph)\n",
    "- 각 정점(node)간의 의존성을 표현하는 정렬 알고리즘의 일종인 위상 정렬을 공부\n",
    "\n",
    "---\n",
    "\n",
    "- 너비 우선 탐색을 사용할 수 있는 경우\n",
    "    - 체커 게임에서 가장 적은 수로 승리할 수 있는 방법을 계산\n",
    "    - 맞춤법 검사기 (실제 단어에서 가장 적은 개수의 글자를 고쳐서 올바른 단어를 만드는 방법)\n",
    "    - 네트워크에서 가장 가까운 의사 선생님 찾기\n",
    "- 그래프\n",
    "    - 연결의 집합을 모형화\n",
    "    - 정점과 간선\n",
    "    - 이어진 정점은 이웃\n",
    "- 큐\n",
    "    - 삽입(enqueue), push\n",
    "    - 제거(dequeue), pop\n",
    "    - 선입 선출, FIFO"
   ]
  },
  {
   "cell_type": "code",
   "execution_count": 15,
   "metadata": {},
   "outputs": [],
   "source": [
    "graph = {}\n",
    "graph[\"you\"] = [\"alice\", \"bob\", \"claire\"]\n",
    "graph[\"bob\"] = [\"anuj\", \"peggy\"]\n",
    "graph[\"alice\"] = [\"peggy\"]\n",
    "graph[\"claire\"] = [\"thom\", \"jonny\"]\n",
    "graph[\"anuj\"] = []\n",
    "graph[\"peggy\"] = []\n",
    "graph[\"thom\"] = []\n",
    "graph[\"jonny\"] = []"
   ]
  },
  {
   "cell_type": "code",
   "execution_count": 2,
   "metadata": {},
   "outputs": [],
   "source": [
    "from collections import deque"
   ]
  },
  {
   "cell_type": "code",
   "execution_count": 5,
   "metadata": {},
   "outputs": [],
   "source": [
    "search_queue = deque()\n",
    "search_queue += graph[\"you\"]"
   ]
  },
  {
   "cell_type": "code",
   "execution_count": 6,
   "metadata": {},
   "outputs": [
    {
     "data": {
      "text/plain": [
       "deque(['alice', 'bob', 'claire'])"
      ]
     },
     "execution_count": 6,
     "metadata": {},
     "output_type": "execute_result"
    }
   ],
   "source": [
    "search_queue"
   ]
  },
  {
   "cell_type": "code",
   "execution_count": 7,
   "metadata": {},
   "outputs": [],
   "source": [
    "def person_is_seller(name):\n",
    "    '''\n",
    "    m으로 끝나면 망고 판매상\n",
    "    '''\n",
    "    return name[-1] == 'm'"
   ]
  },
  {
   "cell_type": "code",
   "execution_count": 16,
   "metadata": {},
   "outputs": [],
   "source": [
    "def search(name):\n",
    "    search_queue = deque()\n",
    "    search_queue += graph[name]\n",
    "    searched = []\n",
    "    \n",
    "    while search_queue:\n",
    "        person = search_queue.popleft()\n",
    "        if not person in searched:\n",
    "            if person_is_seller(person):\n",
    "                print(person + \" is a mango seller!\")\n",
    "                return True\n",
    "            else:\n",
    "                search_queue += graph[person]\n",
    "                searched.append(person)\n",
    "    return False"
   ]
  },
  {
   "cell_type": "code",
   "execution_count": 17,
   "metadata": {},
   "outputs": [
    {
     "name": "stdout",
     "output_type": "stream",
     "text": [
      "thom is a mango seller!\n"
     ]
    },
    {
     "data": {
      "text/plain": [
       "True"
      ]
     },
     "execution_count": 17,
     "metadata": {},
     "output_type": "execute_result"
    }
   ],
   "source": [
    "search(\"you\")"
   ]
  },
  {
   "cell_type": "markdown",
   "metadata": {},
   "source": [
    "- 실행 시간 \n",
    "    - O(사람의 수+간선의 수)\n",
    "    - O(V+E)\n",
    "- 트리 : 거꾸로 가는 간선이 없는 특별한 종류의 그래프"
   ]
  },
  {
   "cell_type": "code",
   "execution_count": null,
   "metadata": {},
   "outputs": [],
   "source": []
  }
 ],
 "metadata": {
  "kernelspec": {
   "display_name": "Python 3",
   "language": "python",
   "name": "python3"
  },
  "language_info": {
   "codemirror_mode": {
    "name": "ipython",
    "version": 3
   },
   "file_extension": ".py",
   "mimetype": "text/x-python",
   "name": "python",
   "nbconvert_exporter": "python",
   "pygments_lexer": "ipython3",
   "version": "3.6.5"
  },
  "varInspector": {
   "cols": {
    "lenName": 16,
    "lenType": 16,
    "lenVar": 40
   },
   "kernels_config": {
    "python": {
     "delete_cmd_postfix": "",
     "delete_cmd_prefix": "del ",
     "library": "var_list.py",
     "varRefreshCmd": "print(var_dic_list())"
    },
    "r": {
     "delete_cmd_postfix": ") ",
     "delete_cmd_prefix": "rm(",
     "library": "var_list.r",
     "varRefreshCmd": "cat(var_dic_list()) "
    }
   },
   "types_to_exclude": [
    "module",
    "function",
    "builtin_function_or_method",
    "instance",
    "_Feature"
   ],
   "window_display": false
  }
 },
 "nbformat": 4,
 "nbformat_minor": 2
}
