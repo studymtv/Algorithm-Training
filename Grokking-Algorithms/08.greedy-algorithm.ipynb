{
 "cells": [
  {
   "cell_type": "markdown",
   "metadata": {},
   "source": [
    "## 이번 파트에선\n",
    "- 빠른 알고리즘 해법이 존재하지 않는 NP_완전 문제를 다루는 법\n",
    "- 시간을 낭비하지 않도록 문제 해결이 불가능한지 아닌지 파악하는 방법 공부\n",
    "- NP-완전 문제에 대한 간략한 해법을 빨리 구할 수 있는 근사 알고리즘\n",
    "- 탐욕 알고리즘 공부\n",
    "\n",
    "### 탐욕 알고리즘\n",
    "- 각각의 단계에서 최적의 수를 찾음\n",
    "- 국소 최적해를 찾아 최종적으로 전역 최적해를 구함"
   ]
  },
  {
   "cell_type": "markdown",
   "metadata": {},
   "source": [
    "### 근사 알고리즘\n",
    "- 정확한 답을 계산할 떄 시간이 많이 걸리면 근사 알고리즘을 사용할 수 있음\n",
    "- 성능은 다음 두 가지로 판단\n",
    "    - 얼마나 빠른가\n",
    "    - 최적해에 얼마나 가까운가"
   ]
  },
  {
   "cell_type": "code",
   "execution_count": 36,
   "metadata": {},
   "outputs": [],
   "source": [
    "states_needed = set([\"mt\", \"wa\", \"or\", \"id\", \"nv\", \"ut\", \"ca\", \"az\"])"
   ]
  },
  {
   "cell_type": "code",
   "execution_count": 37,
   "metadata": {},
   "outputs": [],
   "source": [
    "stations = {}"
   ]
  },
  {
   "cell_type": "code",
   "execution_count": 38,
   "metadata": {},
   "outputs": [],
   "source": [
    "stations[\"kone\"] = set([\"id\", \"nv\", \"ut\"])\n",
    "stations[\"ktwo\"] = set([\"wa\", \"id\", \"mt\"])\n",
    "stations[\"kthree\"] = set([\"or\", \"nv\", \"ca\"])\n",
    "stations[\"kfour\"] = set([\"nv\", \"ut\"])\n",
    "stations[\"kfive\"] = set([\"ca\", \"az\"])"
   ]
  },
  {
   "cell_type": "code",
   "execution_count": 39,
   "metadata": {},
   "outputs": [],
   "source": [
    "final_stations = set()"
   ]
  },
  {
   "cell_type": "code",
   "execution_count": 41,
   "metadata": {},
   "outputs": [
    {
     "name": "stdout",
     "output_type": "stream",
     "text": [
      "{'kthree', 'kfive', 'ktwo', 'kone'}\n"
     ]
    }
   ],
   "source": [
    "while states_needed:\n",
    "    best_station = None\n",
    "    states_covered = set()\n",
    "    for station, states in stations.items():\n",
    "        covered = states_needed & states\n",
    "        if len(covered) > len(states_covered):\n",
    "            best_station = station\n",
    "            states_covered = covered\n",
    "\n",
    "    states_needed -= states_covered\n",
    "    final_stations.add(best_station)\n",
    "    \n",
    "print(final_stations)"
   ]
  },
  {
   "cell_type": "markdown",
   "metadata": {},
   "source": [
    "### set 관련 연산"
   ]
  },
  {
   "cell_type": "code",
   "execution_count": 8,
   "metadata": {},
   "outputs": [],
   "source": [
    "fruits = set([\"avocado\", \"tomato\", \"banana\"])\n",
    "vegatables = set([\"beets\", \"carrots\", \"tomato\"])"
   ]
  },
  {
   "cell_type": "code",
   "execution_count": 9,
   "metadata": {},
   "outputs": [
    {
     "data": {
      "text/plain": [
       "{'avocado', 'banana', 'beets', 'carrots', 'tomato'}"
      ]
     },
     "execution_count": 9,
     "metadata": {},
     "output_type": "execute_result"
    }
   ],
   "source": [
    "fruits | vegatables"
   ]
  },
  {
   "cell_type": "code",
   "execution_count": 10,
   "metadata": {},
   "outputs": [
    {
     "data": {
      "text/plain": [
       "{'tomato'}"
      ]
     },
     "execution_count": 10,
     "metadata": {},
     "output_type": "execute_result"
    }
   ],
   "source": [
    "fruits & vegatables"
   ]
  },
  {
   "cell_type": "code",
   "execution_count": 11,
   "metadata": {},
   "outputs": [
    {
     "data": {
      "text/plain": [
       "{'avocado', 'banana'}"
      ]
     },
     "execution_count": 11,
     "metadata": {},
     "output_type": "execute_result"
    }
   ],
   "source": [
    "fruits - vegatables"
   ]
  },
  {
   "cell_type": "code",
   "execution_count": 12,
   "metadata": {},
   "outputs": [
    {
     "data": {
      "text/plain": [
       "{'beets', 'carrots'}"
      ]
     },
     "execution_count": 12,
     "metadata": {},
     "output_type": "execute_result"
    }
   ],
   "source": [
    "vegatables - fruits"
   ]
  },
  {
   "cell_type": "markdown",
   "metadata": {},
   "source": [
    "### NP-완전 문제\n",
    "- 모든 가능한 경로 탐색\n",
    "- [위키](https://ko.wikipedia.org/wiki/NP-%EC%99%84%EC%A0%84)\n",
    "- NP-완전 문제인지 확인하는 방법\n",
    "    - 항목이 적을 땐 빠르지만 항목이 늘어나며 느려지는 경우\n",
    "    - X의 모든 조합이라고 할 경우\n",
    "    - 더 작은 하위 문제로 변환할 수 없어서 X의 가능한 모든 버전을 계산해야 하면 아마 NP-완전 문제일 수 있음\n",
    "    - 수열을 포함하고 풀기 어려우면 NP-완전 문제일 수 있음\n",
    "    - 집합을 포함하고 풀기 어려우면 NP-완전 문제일 수 있음\n",
    "    - 문제를 집합 커버링 문제나 외판원 문제로 재정의할 수 있으면 명백하게 NP-완전 문제"
   ]
  },
  {
   "cell_type": "code",
   "execution_count": null,
   "metadata": {},
   "outputs": [],
   "source": []
  }
 ],
 "metadata": {
  "kernelspec": {
   "display_name": "Python 3",
   "language": "python",
   "name": "python3"
  },
  "language_info": {
   "codemirror_mode": {
    "name": "ipython",
    "version": 3
   },
   "file_extension": ".py",
   "mimetype": "text/x-python",
   "name": "python",
   "nbconvert_exporter": "python",
   "pygments_lexer": "ipython3",
   "version": "3.6.5"
  },
  "varInspector": {
   "cols": {
    "lenName": 16,
    "lenType": 16,
    "lenVar": 40
   },
   "kernels_config": {
    "python": {
     "delete_cmd_postfix": "",
     "delete_cmd_prefix": "del ",
     "library": "var_list.py",
     "varRefreshCmd": "print(var_dic_list())"
    },
    "r": {
     "delete_cmd_postfix": ") ",
     "delete_cmd_prefix": "rm(",
     "library": "var_list.r",
     "varRefreshCmd": "cat(var_dic_list()) "
    }
   },
   "types_to_exclude": [
    "module",
    "function",
    "builtin_function_or_method",
    "instance",
    "_Feature"
   ],
   "window_display": false
  }
 },
 "nbformat": 4,
 "nbformat_minor": 2
}
