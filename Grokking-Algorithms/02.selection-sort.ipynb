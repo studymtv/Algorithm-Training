{
 "cells": [
  {
   "cell_type": "markdown",
   "metadata": {},
   "source": [
    "## 선택 정렬\n",
    "- 배열과 연결 리스트 중 어떤 것을 선택할 것인가?\n",
    "- 배열\n",
    "    - 새 원소를 추가하는 일은 어려움(같이 자리를 이동)\n",
    "    - 인덱스 값을 알면 바로 원소를 읽을 수 있음\n",
    "- 연결 리스트\n",
    "    - 서로 앞뒤의 주소를 기억하기 때문에 새 원소 추가에 용이\n",
    "    - 원하는 값을 조회하기 위해 계속 타고 타고 가야함\n",
    "\n",
    "\n",
    "### 알고리즘\n",
    "1. 앞에서부터 데이터 하나를 선택\n",
    "2. 선택한 데이터 이후에 있는 원소들 중 가장 작은 값을 찾기\n",
    "3. 선택한 값과 바꾸기\n"
   ]
  },
  {
   "cell_type": "markdown",
   "metadata": {},
   "source": [
    "![selection](http://gifimage.net/wp-content/uploads/2018/05/selection-sort-gif-11.gif)"
   ]
  },
  {
   "cell_type": "markdown",
   "metadata": {},
   "source": [
    "- 배열을 작은 정수에서 큰 정수 순서로 정렬하는 코드"
   ]
  },
  {
   "cell_type": "code",
   "execution_count": 21,
   "metadata": {},
   "outputs": [],
   "source": [
    "def find_smallest(arr):\n",
    "    smallest = arr[0]\n",
    "    smallest_index = 0\n",
    "    for i in range(1, len(arr)):\n",
    "        if arr[i] < smallest:\n",
    "            smallest = arr[i]\n",
    "            smallest_index = i\n",
    "    return smallest_index"
   ]
  },
  {
   "cell_type": "code",
   "execution_count": 26,
   "metadata": {},
   "outputs": [],
   "source": [
    "def selection_sort(arr):\n",
    "    new_arr = []\n",
    "    for i in range(len(arr)):\n",
    "        smallest = find_smallest(arr)\n",
    "        new_arr.append(arr.pop(smallest))\n",
    "        print(\"기존 arr :\", arr)\n",
    "        print(\"신규 arr :\", new_arr)\n",
    "    return new_arr"
   ]
  },
  {
   "cell_type": "code",
   "execution_count": 27,
   "metadata": {},
   "outputs": [
    {
     "name": "stdout",
     "output_type": "stream",
     "text": [
      "기존 arr : [5, 3, 6, 10]\n",
      "신규 arr : [2]\n",
      "기존 arr : [5, 6, 10]\n",
      "신규 arr : [2, 3]\n",
      "기존 arr : [6, 10]\n",
      "신규 arr : [2, 3, 5]\n",
      "기존 arr : [10]\n",
      "신규 arr : [2, 3, 5, 6]\n",
      "기존 arr : []\n",
      "신규 arr : [2, 3, 5, 6, 10]\n"
     ]
    },
    {
     "data": {
      "text/plain": [
       "[2, 3, 5, 6, 10]"
      ]
     },
     "execution_count": 27,
     "metadata": {},
     "output_type": "execute_result"
    }
   ],
   "source": [
    "selection_sort([5,3,6,2,10])"
   ]
  },
  {
   "cell_type": "code",
   "execution_count": null,
   "metadata": {},
   "outputs": [],
   "source": []
  }
 ],
 "metadata": {
  "kernelspec": {
   "display_name": "Python 3",
   "language": "python",
   "name": "python3"
  },
  "language_info": {
   "codemirror_mode": {
    "name": "ipython",
    "version": 3
   },
   "file_extension": ".py",
   "mimetype": "text/x-python",
   "name": "python",
   "nbconvert_exporter": "python",
   "pygments_lexer": "ipython3",
   "version": "3.6.5"
  },
  "varInspector": {
   "cols": {
    "lenName": 16,
    "lenType": 16,
    "lenVar": 40
   },
   "kernels_config": {
    "python": {
     "delete_cmd_postfix": "",
     "delete_cmd_prefix": "del ",
     "library": "var_list.py",
     "varRefreshCmd": "print(var_dic_list())"
    },
    "r": {
     "delete_cmd_postfix": ") ",
     "delete_cmd_prefix": "rm(",
     "library": "var_list.r",
     "varRefreshCmd": "cat(var_dic_list()) "
    }
   },
   "types_to_exclude": [
    "module",
    "function",
    "builtin_function_or_method",
    "instance",
    "_Feature"
   ],
   "window_display": false
  }
 },
 "nbformat": 4,
 "nbformat_minor": 2
}
