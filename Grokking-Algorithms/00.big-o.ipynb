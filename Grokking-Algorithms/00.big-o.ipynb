{
 "cells": [
  {
   "cell_type": "markdown",
   "metadata": {},
   "source": [
    "## big-o 표기법\n",
    "- 알고리즘이 얼마나 빠른지 표시하는 방법\n",
    "- 연산 횟수를 나타냄\n",
    "- ```O(n)```\n",
    "- n 앞에 붙는 상수는 무시함\n",
    "- 많이 사용하는 빅오 실행 시간\n",
    "    - ```O(log n)``` : 로그 시간, 이진 탐색\n",
    "    - ```O(n)``` : 선형 시간, 단순 탐색\n",
    "    - ```O(n*log n)``` : 퀵 정렬과 같은 빠른 정렬 알고리즘\n",
    "    - ```O(n^2)``` : 선택 정렬과 같은 느린 정렬 알고리즘, 이중 for문\n",
    "    - ```O(n!)``` : 외판원 문제와 같이 정말 느린 알고리즘"
   ]
  },
  {
   "cell_type": "code",
   "execution_count": null,
   "metadata": {},
   "outputs": [],
   "source": []
  }
 ],
 "metadata": {
  "kernelspec": {
   "display_name": "Python 3",
   "language": "python",
   "name": "python3"
  },
  "language_info": {
   "codemirror_mode": {
    "name": "ipython",
    "version": 3
   },
   "file_extension": ".py",
   "mimetype": "text/x-python",
   "name": "python",
   "nbconvert_exporter": "python",
   "pygments_lexer": "ipython3",
   "version": "3.6.5"
  },
  "varInspector": {
   "cols": {
    "lenName": 16,
    "lenType": 16,
    "lenVar": 40
   },
   "kernels_config": {
    "python": {
     "delete_cmd_postfix": "",
     "delete_cmd_prefix": "del ",
     "library": "var_list.py",
     "varRefreshCmd": "print(var_dic_list())"
    },
    "r": {
     "delete_cmd_postfix": ") ",
     "delete_cmd_prefix": "rm(",
     "library": "var_list.r",
     "varRefreshCmd": "cat(var_dic_list()) "
    }
   },
   "types_to_exclude": [
    "module",
    "function",
    "builtin_function_or_method",
    "instance",
    "_Feature"
   ],
   "window_display": false
  }
 },
 "nbformat": 4,
 "nbformat_minor": 2
}
